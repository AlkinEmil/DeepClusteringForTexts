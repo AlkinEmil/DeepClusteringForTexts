{
 "cells": [
  {
   "cell_type": "markdown",
   "id": "33a40a2a",
   "metadata": {},
   "source": [
    "This notebook contains examples of TextClustering model usage for Banking77 datasets."
   ]
  },
  {
   "cell_type": "code",
   "execution_count": 78,
   "id": "1f250473",
   "metadata": {},
   "outputs": [
    {
     "name": "stdout",
     "output_type": "stream",
     "text": [
      "The autoreload extension is already loaded. To reload it, use:\n",
      "  %reload_ext autoreload\n"
     ]
    }
   ],
   "source": [
    "import pandas as pd\n",
    "import numpy as np\n",
    "\n",
    "from omegaconf import OmegaConf\n",
    "\n",
    "import os\n",
    "os.environ[\"TOKENIZERS_PARALLELISM\"] = \"false\"\n",
    "\n",
    "from utils.data_utils import *\n",
    "from text_clustering import TextClustering\n",
    "from utils.evaluation_utils import evaluate_classic_clustering\n",
    "\n",
    "%load_ext autoreload\n",
    "%autoreload"
   ]
  },
  {
   "cell_type": "markdown",
   "id": "2e2d326a",
   "metadata": {},
   "source": [
    "# Load data\n",
    "\n",
    "To load and split Banking or Demo datasets, you may use functions from ```utils/data_utils.py```. You need to place .csv file with texts (and, possibly, cluester markup) in ```BANKING_PATH``` directory. This directory should contain subdirectory ```embeds/``` with texts embeddings saved as a torch.Tensor of shape ```[n_texts, input_dim]```. \n",
    "\n",
    "To add a custom dataset, you need a dataframe containing texts (column 'text') and markup (columns 'cluster') and a tensor of embeddings. Make sure that ```len(dataframe) == embeds.shape[0]```."
   ]
  },
  {
   "cell_type": "code",
   "execution_count": 79,
   "id": "e97d1ad3",
   "metadata": {},
   "outputs": [],
   "source": [
    "BANKING_PATH = \"data/banking77/\"\n",
    "\n",
    "data_all, clusters_all, embeds_t5_all = load_banking_data(BANKING_PATH)\n",
    "\n",
    "NUM_CLUSTERS = 10\n",
    "\n",
    "base_embeds, _, base_data, base_clusters, _ = sample_banking_clusters(\n",
    "    dataframe=data_all,\n",
    "    raw_embeds=embeds_t5_all,\n",
    "    cluster_num_list=np.linspace(0, NUM_CLUSTERS - 1, NUM_CLUSTERS),\n",
    "    noise_cluster_num_list=None,\n",
    "    noise_frac=0\n",
    ")\n",
    "\n",
    "INP_DIM = base_embeds.shape[1]"
   ]
  },
  {
   "cell_type": "markdown",
   "id": "bdfb2287",
   "metadata": {},
   "source": [
    "# Classic algorithms\n",
    "\n",
    "To initialize a classic clustering model, you need to choose dimensionality reduction type (None, 'pca', 'umap', 'tsne' or 'pacmap'), number of components (aka ```feat_dim```), clustering type ('kmeans', 'gmm', 'hdbscan', 'mean_shift' or 'spectral') and its hyper-parameters (```min_samples``` and ```min_cluster_size``` for HDBSCAN; ```bandwidth``` for MeanShift).\n",
    "Once TextClustering model with the necessary parameters is initialized, it can be fitted and evaluated in the following way."
   ]
  },
  {
   "cell_type": "code",
   "execution_count": 80,
   "id": "c8f56b17",
   "metadata": {},
   "outputs": [
    {
     "name": "stdout",
     "output_type": "stream",
     "text": [
      "silhouette_score: 0.06390000134706497\n",
      "adjusted_rand_score: 0.6536\n",
      "adjusted_mutual_info_score: 0.804\n",
      "average_topic_coherence: 0.7264\n",
      "Dim red time: 10.43466591835022\n",
      "Clust time: 0.13676953315734863\n"
     ]
    }
   ],
   "source": [
    "model = TextClustering(\n",
    "    n_clusters=NUM_CLUSTERS,\n",
    "    inp_dim=INP_DIM,\n",
    "    train_dataset=base_embeds,\n",
    "    data_frame=base_data,\n",
    "    feat_dim=10,\n",
    "    kind=\"classic clustering\",\n",
    "    dim_reduction_type=\"umap\",\n",
    "    clustering_type=\"gmm\",\n",
    "    random_state=42\n",
    ")\n",
    "\n",
    "model.fit(base_embeds)\n",
    "_, clusters = model.transform_and_cluster(base_embeds)\n",
    "\n",
    "metrics = model.evaluate(use_true_clusters=True)\n",
    "\n",
    "print(f\"Dim red time: {model.times['dim_red']}\")\n",
    "print(f\"Clust time: {model.times['clust']}\")"
   ]
  },
  {
   "cell_type": "markdown",
   "id": "858f12ed",
   "metadata": {},
   "source": [
    "To run a series of experiments with grid search and save results in a .csv file, you may use the following function defined in ```evaluation_utils.py```."
   ]
  },
  {
   "cell_type": "code",
   "execution_count": 29,
   "id": "21773fc2",
   "metadata": {},
   "outputs": [
    {
     "name": "stderr",
     "output_type": "stream",
     "text": [
      "\r",
      "  0%|                                                                                            | 0/36 [00:00<?, ?it/s]"
     ]
    },
    {
     "name": "stdout",
     "output_type": "stream",
     "text": [
      "dim_red: None, n_comp: None, clustering: kmeans\n"
     ]
    },
    {
     "name": "stderr",
     "output_type": "stream",
     "text": [
      "\r",
      "  3%|██▎                                                                                 | 1/36 [00:01<00:48,  1.40s/it]"
     ]
    },
    {
     "name": "stdout",
     "output_type": "stream",
     "text": [
      "silhouette_score: 0.10859999805688858\n",
      "adjusted_rand_score: 0.3873\n",
      "adjusted_mutual_info_score: 0.5238\n",
      "average_topic_coherence: 0.7914\n",
      "--------------------------------------------------------------------------------\n",
      "dim_red: None, n_comp: None, clustering: gmm\n"
     ]
    },
    {
     "name": "stderr",
     "output_type": "stream",
     "text": [
      "\r",
      "  6%|████▋                                                                               | 2/36 [00:04<01:27,  2.56s/it]"
     ]
    },
    {
     "name": "stdout",
     "output_type": "stream",
     "text": [
      "silhouette_score: 0.13809999823570251\n",
      "adjusted_rand_score: 0.9721\n",
      "adjusted_mutual_info_score: 0.9557\n",
      "average_topic_coherence: 0.7914\n",
      "--------------------------------------------------------------------------------\n",
      "dim_red: None, n_comp: None, clustering: hdbscan\n",
      "Grid search for HDBSCAN parameters\n"
     ]
    },
    {
     "name": "stderr",
     "output_type": "stream",
     "text": [
      "\n",
      "  0%|                                                                                             | 0/6 [00:00<?, ?it/s]\u001b[A"
     ]
    },
    {
     "name": "stdout",
     "output_type": "stream",
     "text": [
      "min_samples: 5, min_cluster_size: 10\n"
     ]
    },
    {
     "name": "stderr",
     "output_type": "stream",
     "text": [
      "\n",
      " 17%|██████████████▏                                                                      | 1/6 [00:02<00:12,  2.44s/it]\u001b[A"
     ]
    },
    {
     "name": "stdout",
     "output_type": "stream",
     "text": [
      "silhouette_score: -0.04439999908208847\n",
      "adjusted_rand_score: 0.1016\n",
      "adjusted_mutual_info_score: 0.3382\n",
      "average_topic_coherence: 0.7753\n",
      "min_samples: 5, min_cluster_size: 30\n"
     ]
    },
    {
     "name": "stderr",
     "output_type": "stream",
     "text": [
      "\n",
      " 33%|████████████████████████████▎                                                        | 2/6 [00:05<00:10,  2.68s/it]\u001b[A"
     ]
    },
    {
     "name": "stdout",
     "output_type": "stream",
     "text": [
      "silhouette_score: -0.0032999999821186066\n",
      "adjusted_rand_score: 0.216\n",
      "adjusted_mutual_info_score: 0.4331\n",
      "average_topic_coherence: 0.8559\n",
      "min_samples: 5, min_cluster_size: 60\n"
     ]
    },
    {
     "name": "stderr",
     "output_type": "stream",
     "text": [
      "\n",
      " 50%|██████████████████████████████████████████▌                                          | 3/6 [00:08<00:08,  2.70s/it]\u001b[A"
     ]
    },
    {
     "name": "stdout",
     "output_type": "stream",
     "text": [
      "silhouette_score: -0.0032999999821186066\n",
      "adjusted_rand_score: 0.216\n",
      "adjusted_mutual_info_score: 0.4331\n",
      "average_topic_coherence: 0.8559\n",
      "min_samples: 10, min_cluster_size: 10\n"
     ]
    },
    {
     "name": "stderr",
     "output_type": "stream",
     "text": [
      "\n",
      " 67%|████████████████████████████████████████████████████████▋                            | 4/6 [00:10<00:05,  2.58s/it]\u001b[A"
     ]
    },
    {
     "name": "stdout",
     "output_type": "stream",
     "text": [
      "silhouette_score: -0.04450000077486038\n",
      "adjusted_rand_score: 0.1166\n",
      "adjusted_mutual_info_score: 0.361\n",
      "average_topic_coherence: 0.8618\n",
      "min_samples: 10, min_cluster_size: 30\n"
     ]
    },
    {
     "name": "stderr",
     "output_type": "stream",
     "text": [
      "\n",
      " 83%|██████████████████████████████████████████████████████████████████████▊              | 5/6 [00:12<00:02,  2.53s/it]\u001b[A"
     ]
    },
    {
     "name": "stdout",
     "output_type": "stream",
     "text": [
      "silhouette_score: 0.012400000356137753\n",
      "adjusted_rand_score: 0.1302\n",
      "adjusted_mutual_info_score: 0.2781\n",
      "average_topic_coherence: 0.8088\n",
      "min_samples: 10, min_cluster_size: 60\n"
     ]
    },
    {
     "name": "stderr",
     "output_type": "stream",
     "text": [
      "\n",
      "100%|█████████████████████████████████████████████████████████████████████████████████████| 6/6 [00:15<00:00,  2.51s/it]\u001b[A\n",
      "  8%|███████                                                                             | 3/36 [00:19<04:32,  8.27s/it]"
     ]
    },
    {
     "name": "stdout",
     "output_type": "stream",
     "text": [
      "silhouette_score: 0.012400000356137753\n",
      "adjusted_rand_score: 0.1302\n",
      "adjusted_mutual_info_score: 0.2781\n",
      "average_topic_coherence: 0.8088\n",
      "silhouette_score: 0.012400000356137753\n",
      "adjusted_rand_score: 0.1302\n",
      "adjusted_mutual_info_score: 0.2781\n",
      "average_topic_coherence: 0.8088\n",
      "--------------------------------------------------------------------------------\n",
      "dim_red: None, n_comp: None, clustering: spectral\n"
     ]
    },
    {
     "name": "stderr",
     "output_type": "stream",
     "text": [
      "\r",
      " 11%|█████████▎                                                                          | 4/36 [00:21<02:58,  5.58s/it]"
     ]
    },
    {
     "name": "stdout",
     "output_type": "stream",
     "text": [
      "silhouette_score: 0.13079999387264252\n",
      "adjusted_rand_score: 0.8111\n",
      "adjusted_mutual_info_score: 0.7803\n",
      "average_topic_coherence: 0.598\n",
      "--------------------------------------------------------------------------------\n",
      "dim_red: pca, n_comp: 10, clustering: kmeans\n"
     ]
    },
    {
     "name": "stderr",
     "output_type": "stream",
     "text": [
      "\r",
      " 47%|███████████████████████████████████████▏                                           | 17/36 [00:22<00:14,  1.32it/s]"
     ]
    },
    {
     "name": "stdout",
     "output_type": "stream",
     "text": [
      "silhouette_score: 0.10869999974966049\n",
      "adjusted_rand_score: 0.3759\n",
      "adjusted_mutual_info_score: 0.5089\n",
      "average_topic_coherence: 0.7957\n",
      "--------------------------------------------------------------------------------\n",
      "dim_red: pca, n_comp: 10, clustering: gmm\n"
     ]
    },
    {
     "name": "stderr",
     "output_type": "stream",
     "text": [
      "\r",
      " 50%|█████████████████████████████████████████▌                                         | 18/36 [00:24<00:14,  1.23it/s]"
     ]
    },
    {
     "name": "stdout",
     "output_type": "stream",
     "text": [
      "silhouette_score: 0.13840000331401825\n",
      "adjusted_rand_score: 1.0\n",
      "adjusted_mutual_info_score: 1.0\n",
      "average_topic_coherence: 0.8051\n",
      "--------------------------------------------------------------------------------\n",
      "dim_red: pca, n_comp: 10, clustering: hdbscan\n",
      "Grid search for HDBSCAN parameters\n"
     ]
    },
    {
     "name": "stderr",
     "output_type": "stream",
     "text": [
      "\n",
      "  0%|                                                                                             | 0/6 [00:00<?, ?it/s]\u001b[A"
     ]
    },
    {
     "name": "stdout",
     "output_type": "stream",
     "text": [
      "min_samples: 5, min_cluster_size: 10\n"
     ]
    },
    {
     "name": "stderr",
     "output_type": "stream",
     "text": [
      "\n",
      " 17%|██████████████▏                                                                      | 1/6 [00:01<00:06,  1.33s/it]\u001b[A"
     ]
    },
    {
     "name": "stdout",
     "output_type": "stream",
     "text": [
      "silhouette_score: 0.0917000025510788\n",
      "adjusted_rand_score: 0.6476\n",
      "adjusted_mutual_info_score: 0.7034\n",
      "average_topic_coherence: 0.7408\n",
      "min_samples: 5, min_cluster_size: 30\n"
     ]
    },
    {
     "name": "stderr",
     "output_type": "stream",
     "text": [
      "\n",
      " 33%|████████████████████████████▎                                                        | 2/6 [00:02<00:05,  1.28s/it]\u001b[A"
     ]
    },
    {
     "name": "stdout",
     "output_type": "stream",
     "text": [
      "silhouette_score: 0.09260000288486481\n",
      "adjusted_rand_score: 0.6503\n",
      "adjusted_mutual_info_score: 0.7048\n",
      "average_topic_coherence: 0.7402\n",
      "min_samples: 5, min_cluster_size: 60\n"
     ]
    },
    {
     "name": "stderr",
     "output_type": "stream",
     "text": [
      "\n",
      " 50%|██████████████████████████████████████████▌                                          | 3/6 [00:04<00:04,  1.40s/it]\u001b[A"
     ]
    },
    {
     "name": "stdout",
     "output_type": "stream",
     "text": [
      "silhouette_score: 0.0917000025510788\n",
      "adjusted_rand_score: 0.6476\n",
      "adjusted_mutual_info_score: 0.7034\n",
      "average_topic_coherence: 0.7408\n",
      "min_samples: 10, min_cluster_size: 10\n"
     ]
    },
    {
     "name": "stderr",
     "output_type": "stream",
     "text": [
      "\n",
      " 67%|████████████████████████████████████████████████████████▋                            | 4/6 [00:05<00:03,  1.51s/it]\u001b[A"
     ]
    },
    {
     "name": "stdout",
     "output_type": "stream",
     "text": [
      "silhouette_score: 0.040800001472234726\n",
      "adjusted_rand_score: 0.4077\n",
      "adjusted_mutual_info_score: 0.556\n",
      "average_topic_coherence: 0.8595\n",
      "min_samples: 10, min_cluster_size: 30\n"
     ]
    },
    {
     "name": "stderr",
     "output_type": "stream",
     "text": [
      "\n",
      " 83%|██████████████████████████████████████████████████████████████████████▊              | 5/6 [00:07<00:01,  1.56s/it]\u001b[A"
     ]
    },
    {
     "name": "stdout",
     "output_type": "stream",
     "text": [
      "silhouette_score: 0.06639999896287918\n",
      "adjusted_rand_score: 0.4977\n",
      "adjusted_mutual_info_score: 0.6047\n",
      "average_topic_coherence: 0.8209\n",
      "min_samples: 10, min_cluster_size: 60\n"
     ]
    },
    {
     "name": "stderr",
     "output_type": "stream",
     "text": [
      "\n",
      "100%|█████████████████████████████████████████████████████████████████████████████████████| 6/6 [00:08<00:00,  1.50s/it]\u001b[A\n",
      " 53%|███████████████████████████████████████████▊                                       | 19/36 [00:32<00:29,  1.73s/it]"
     ]
    },
    {
     "name": "stdout",
     "output_type": "stream",
     "text": [
      "silhouette_score: 0.06710000336170197\n",
      "adjusted_rand_score: 0.4973\n",
      "adjusted_mutual_info_score: 0.604\n",
      "average_topic_coherence: 0.8305\n",
      "silhouette_score: 0.06710000336170197\n",
      "adjusted_rand_score: 0.4973\n",
      "adjusted_mutual_info_score: 0.604\n",
      "average_topic_coherence: 0.8305\n",
      "--------------------------------------------------------------------------------\n",
      "dim_red: pca, n_comp: 10, clustering: spectral\n"
     ]
    },
    {
     "name": "stderr",
     "output_type": "stream",
     "text": [
      "\r",
      " 56%|██████████████████████████████████████████████                                     | 20/36 [00:34<00:27,  1.71s/it]"
     ]
    },
    {
     "name": "stdout",
     "output_type": "stream",
     "text": [
      "silhouette_score: 0.13510000705718994\n",
      "adjusted_rand_score: 0.8901\n",
      "adjusted_mutual_info_score: 0.847\n",
      "average_topic_coherence: 0.7365\n",
      "--------------------------------------------------------------------------------\n",
      "dim_red: pca, n_comp: 50, clustering: kmeans\n"
     ]
    },
    {
     "name": "stderr",
     "output_type": "stream",
     "text": [
      "\r",
      " 58%|████████████████████████████████████████████████▍                                  | 21/36 [00:36<00:25,  1.70s/it]"
     ]
    },
    {
     "name": "stdout",
     "output_type": "stream",
     "text": [
      "silhouette_score: 0.1071000024676323\n",
      "adjusted_rand_score: 0.3909\n",
      "adjusted_mutual_info_score: 0.5266\n",
      "average_topic_coherence: 0.7913\n",
      "--------------------------------------------------------------------------------\n",
      "dim_red: pca, n_comp: 50, clustering: gmm\n"
     ]
    },
    {
     "name": "stderr",
     "output_type": "stream",
     "text": [
      "\r",
      " 61%|██████████████████████████████████████████████████▋                                | 22/36 [00:37<00:23,  1.69s/it]"
     ]
    },
    {
     "name": "stdout",
     "output_type": "stream",
     "text": [
      "silhouette_score: 0.13819999992847443\n",
      "adjusted_rand_score: 0.9941\n",
      "adjusted_mutual_info_score: 0.9895\n",
      "average_topic_coherence: 0.8051\n",
      "--------------------------------------------------------------------------------\n",
      "dim_red: pca, n_comp: 50, clustering: hdbscan\n",
      "Grid search for HDBSCAN parameters\n"
     ]
    },
    {
     "name": "stderr",
     "output_type": "stream",
     "text": [
      "\n",
      "  0%|                                                                                             | 0/6 [00:00<?, ?it/s]\u001b[A"
     ]
    },
    {
     "name": "stdout",
     "output_type": "stream",
     "text": [
      "min_samples: 5, min_cluster_size: 10\n"
     ]
    },
    {
     "name": "stderr",
     "output_type": "stream",
     "text": [
      "\n",
      " 17%|██████████████▏                                                                      | 1/6 [00:01<00:06,  1.24s/it]\u001b[A"
     ]
    },
    {
     "name": "stdout",
     "output_type": "stream",
     "text": [
      "silhouette_score: 0.05490000173449516\n",
      "adjusted_rand_score: 0.4501\n",
      "adjusted_mutual_info_score: 0.5814\n",
      "average_topic_coherence: 0.8277\n",
      "min_samples: 5, min_cluster_size: 30\n"
     ]
    },
    {
     "name": "stderr",
     "output_type": "stream",
     "text": [
      "\n",
      " 33%|████████████████████████████▎                                                        | 2/6 [00:02<00:04,  1.23s/it]\u001b[A"
     ]
    },
    {
     "name": "stdout",
     "output_type": "stream",
     "text": [
      "silhouette_score: 0.05570000037550926\n",
      "adjusted_rand_score: 0.4539\n",
      "adjusted_mutual_info_score: 0.5901\n",
      "average_topic_coherence: 0.8274\n",
      "min_samples: 5, min_cluster_size: 60\n"
     ]
    },
    {
     "name": "stderr",
     "output_type": "stream",
     "text": [
      "\n",
      " 50%|██████████████████████████████████████████▌                                          | 3/6 [00:03<00:03,  1.19s/it]\u001b[A"
     ]
    },
    {
     "name": "stdout",
     "output_type": "stream",
     "text": [
      "silhouette_score: 0.054099999368190765\n",
      "adjusted_rand_score: 0.4467\n",
      "adjusted_mutual_info_score: 0.5791\n",
      "average_topic_coherence: 0.8287\n",
      "min_samples: 10, min_cluster_size: 10\n"
     ]
    },
    {
     "name": "stderr",
     "output_type": "stream",
     "text": [
      "\n",
      " 67%|████████████████████████████████████████████████████████▋                            | 4/6 [00:04<00:02,  1.13s/it]\u001b[A"
     ]
    },
    {
     "name": "stdout",
     "output_type": "stream",
     "text": [
      "silhouette_score: 0.016899999231100082\n",
      "adjusted_rand_score: 0.2771\n",
      "adjusted_mutual_info_score: 0.477\n",
      "average_topic_coherence: 0.8025\n",
      "min_samples: 10, min_cluster_size: 30\n"
     ]
    },
    {
     "name": "stderr",
     "output_type": "stream",
     "text": [
      "\n",
      " 83%|██████████████████████████████████████████████████████████████████████▊              | 5/6 [00:06<00:01,  1.31s/it]\u001b[A"
     ]
    },
    {
     "name": "stdout",
     "output_type": "stream",
     "text": [
      "silhouette_score: 0.01549999974668026\n",
      "adjusted_rand_score: 0.2718\n",
      "adjusted_mutual_info_score: 0.4737\n",
      "average_topic_coherence: 0.8035\n",
      "min_samples: 10, min_cluster_size: 60\n"
     ]
    },
    {
     "name": "stderr",
     "output_type": "stream",
     "text": [
      "\n",
      "100%|█████████████████████████████████████████████████████████████████████████████████████| 6/6 [00:07<00:00,  1.31s/it]\u001b[A\n",
      " 64%|█████████████████████████████████████████████████████                              | 23/36 [00:45<00:39,  3.01s/it]"
     ]
    },
    {
     "name": "stdout",
     "output_type": "stream",
     "text": [
      "silhouette_score: 0.015399999916553497\n",
      "adjusted_rand_score: 0.2731\n",
      "adjusted_mutual_info_score: 0.4815\n",
      "average_topic_coherence: 0.8044\n",
      "silhouette_score: 0.015399999916553497\n",
      "adjusted_rand_score: 0.2731\n",
      "adjusted_mutual_info_score: 0.4815\n",
      "average_topic_coherence: 0.8044\n",
      "--------------------------------------------------------------------------------\n",
      "dim_red: pca, n_comp: 50, clustering: spectral\n"
     ]
    },
    {
     "name": "stderr",
     "output_type": "stream",
     "text": [
      "\r",
      " 67%|███████████████████████████████████████████████████████▎                           | 24/36 [00:47<00:31,  2.66s/it]"
     ]
    },
    {
     "name": "stdout",
     "output_type": "stream",
     "text": [
      "silhouette_score: 0.13040000200271606\n",
      "adjusted_rand_score: 0.8118\n",
      "adjusted_mutual_info_score: 0.7731\n",
      "average_topic_coherence: 0.5788\n",
      "--------------------------------------------------------------------------------\n",
      "dim_red: pacmap, n_comp: 10, clustering: kmeans\n"
     ]
    },
    {
     "name": "stderr",
     "output_type": "stream",
     "text": [
      "\r",
      " 81%|██████████████████████████████████████████████████████████████████▊                | 29/36 [00:51<00:10,  1.53s/it]"
     ]
    },
    {
     "name": "stdout",
     "output_type": "stream",
     "text": [
      "silhouette_score: 0.13819999992847443\n",
      "adjusted_rand_score: 0.9882\n",
      "adjusted_mutual_info_score: 0.979\n",
      "average_topic_coherence: 0.8057\n",
      "--------------------------------------------------------------------------------\n",
      "dim_red: pacmap, n_comp: 10, clustering: gmm\n"
     ]
    },
    {
     "name": "stderr",
     "output_type": "stream",
     "text": [
      "\r",
      " 83%|█████████████████████████████████████████████████████████████████████▏             | 30/36 [00:55<00:11,  1.92s/it]"
     ]
    },
    {
     "name": "stdout",
     "output_type": "stream",
     "text": [
      "silhouette_score: 0.13819999992847443\n",
      "adjusted_rand_score: 0.9882\n",
      "adjusted_mutual_info_score: 0.979\n",
      "average_topic_coherence: 0.8057\n",
      "--------------------------------------------------------------------------------\n",
      "dim_red: pacmap, n_comp: 10, clustering: hdbscan\n",
      "Grid search for HDBSCAN parameters\n"
     ]
    },
    {
     "name": "stderr",
     "output_type": "stream",
     "text": [
      "\n",
      "  0%|                                                                                             | 0/6 [00:00<?, ?it/s]\u001b[A"
     ]
    },
    {
     "name": "stdout",
     "output_type": "stream",
     "text": [
      "min_samples: 5, min_cluster_size: 10\n"
     ]
    },
    {
     "name": "stderr",
     "output_type": "stream",
     "text": [
      "\n",
      " 17%|██████████████▏                                                                      | 1/6 [00:03<00:17,  3.53s/it]\u001b[A"
     ]
    },
    {
     "name": "stdout",
     "output_type": "stream",
     "text": [
      "silhouette_score: 0.13819999992847443\n",
      "adjusted_rand_score: 0.9882\n",
      "adjusted_mutual_info_score: 0.979\n",
      "average_topic_coherence: 0.8057\n",
      "min_samples: 5, min_cluster_size: 30\n"
     ]
    },
    {
     "name": "stderr",
     "output_type": "stream",
     "text": [
      "\n",
      " 33%|████████████████████████████▎                                                        | 2/6 [00:06<00:13,  3.47s/it]\u001b[A"
     ]
    },
    {
     "name": "stdout",
     "output_type": "stream",
     "text": [
      "silhouette_score: 0.13819999992847443\n",
      "adjusted_rand_score: 0.9882\n",
      "adjusted_mutual_info_score: 0.979\n",
      "average_topic_coherence: 0.8057\n",
      "min_samples: 5, min_cluster_size: 60\n"
     ]
    },
    {
     "name": "stderr",
     "output_type": "stream",
     "text": [
      "\n",
      " 50%|██████████████████████████████████████████▌                                          | 3/6 [00:10<00:10,  3.43s/it]\u001b[A"
     ]
    },
    {
     "name": "stdout",
     "output_type": "stream",
     "text": [
      "silhouette_score: 0.13819999992847443\n",
      "adjusted_rand_score: 0.9882\n",
      "adjusted_mutual_info_score: 0.979\n",
      "average_topic_coherence: 0.8057\n",
      "min_samples: 10, min_cluster_size: 10\n"
     ]
    },
    {
     "name": "stderr",
     "output_type": "stream",
     "text": [
      "\n",
      " 67%|████████████████████████████████████████████████████████▋                            | 4/6 [00:13<00:06,  3.37s/it]\u001b[A"
     ]
    },
    {
     "name": "stdout",
     "output_type": "stream",
     "text": [
      "silhouette_score: 0.13819999992847443\n",
      "adjusted_rand_score: 0.9882\n",
      "adjusted_mutual_info_score: 0.979\n",
      "average_topic_coherence: 0.8057\n",
      "min_samples: 10, min_cluster_size: 30\n"
     ]
    },
    {
     "name": "stderr",
     "output_type": "stream",
     "text": [
      "\n",
      " 83%|██████████████████████████████████████████████████████████████████████▊              | 5/6 [00:22<00:05,  5.19s/it]\u001b[A"
     ]
    },
    {
     "name": "stdout",
     "output_type": "stream",
     "text": [
      "silhouette_score: 0.13819999992847443\n",
      "adjusted_rand_score: 0.9882\n",
      "adjusted_mutual_info_score: 0.979\n",
      "average_topic_coherence: 0.8057\n",
      "min_samples: 10, min_cluster_size: 60\n"
     ]
    },
    {
     "name": "stderr",
     "output_type": "stream",
     "text": [
      "\n",
      "100%|█████████████████████████████████████████████████████████████████████████████████████| 6/6 [00:26<00:00,  4.45s/it]\u001b[A\n",
      " 86%|███████████████████████████████████████████████████████████████████████▍           | 31/36 [01:22<00:31,  6.34s/it]"
     ]
    },
    {
     "name": "stdout",
     "output_type": "stream",
     "text": [
      "silhouette_score: 0.13819999992847443\n",
      "adjusted_rand_score: 0.9882\n",
      "adjusted_mutual_info_score: 0.979\n",
      "average_topic_coherence: 0.8057\n",
      "silhouette_score: 0.13819999992847443\n",
      "adjusted_rand_score: 0.9882\n",
      "adjusted_mutual_info_score: 0.979\n",
      "average_topic_coherence: 0.8057\n",
      "--------------------------------------------------------------------------------\n",
      "dim_red: pacmap, n_comp: 10, clustering: spectral\n"
     ]
    },
    {
     "name": "stderr",
     "output_type": "stream",
     "text": [
      "\r",
      " 89%|█████████████████████████████████████████████████████████████████████████▊         | 32/36 [01:29<00:26,  6.55s/it]"
     ]
    },
    {
     "name": "stdout",
     "output_type": "stream",
     "text": [
      "silhouette_score: 0.0738999992609024\n",
      "adjusted_rand_score: 0.4956\n",
      "adjusted_mutual_info_score: 0.6696\n",
      "average_topic_coherence: 0.7573\n",
      "--------------------------------------------------------------------------------\n",
      "dim_red: pacmap, n_comp: 50, clustering: kmeans\n"
     ]
    },
    {
     "name": "stderr",
     "output_type": "stream",
     "text": [
      "\r",
      " 92%|████████████████████████████████████████████████████████████████████████████       | 33/36 [01:37<00:20,  6.79s/it]"
     ]
    },
    {
     "name": "stdout",
     "output_type": "stream",
     "text": [
      "silhouette_score: 0.13819999992847443\n",
      "adjusted_rand_score: 0.9882\n",
      "adjusted_mutual_info_score: 0.979\n",
      "average_topic_coherence: 0.8057\n",
      "--------------------------------------------------------------------------------\n",
      "dim_red: pacmap, n_comp: 50, clustering: gmm\n"
     ]
    },
    {
     "name": "stderr",
     "output_type": "stream",
     "text": [
      "\r",
      " 94%|██████████████████████████████████████████████████████████████████████████████▍    | 34/36 [01:44<00:13,  6.89s/it]"
     ]
    },
    {
     "name": "stdout",
     "output_type": "stream",
     "text": [
      "silhouette_score: 0.13819999992847443\n",
      "adjusted_rand_score: 0.9882\n",
      "adjusted_mutual_info_score: 0.979\n",
      "average_topic_coherence: 0.8057\n",
      "--------------------------------------------------------------------------------\n",
      "dim_red: pacmap, n_comp: 50, clustering: hdbscan\n",
      "Grid search for HDBSCAN parameters\n"
     ]
    },
    {
     "name": "stderr",
     "output_type": "stream",
     "text": [
      "\n",
      "  0%|                                                                                             | 0/6 [00:00<?, ?it/s]\u001b[A"
     ]
    },
    {
     "name": "stdout",
     "output_type": "stream",
     "text": [
      "min_samples: 5, min_cluster_size: 10\n"
     ]
    },
    {
     "name": "stderr",
     "output_type": "stream",
     "text": [
      "\n",
      " 17%|██████████████▏                                                                      | 1/6 [00:06<00:34,  6.95s/it]\u001b[A"
     ]
    },
    {
     "name": "stdout",
     "output_type": "stream",
     "text": [
      "silhouette_score: 0.13819999992847443\n",
      "adjusted_rand_score: 0.9882\n",
      "adjusted_mutual_info_score: 0.979\n",
      "average_topic_coherence: 0.8057\n",
      "min_samples: 5, min_cluster_size: 30\n"
     ]
    },
    {
     "name": "stderr",
     "output_type": "stream",
     "text": [
      "\n",
      " 33%|████████████████████████████▎                                                        | 2/6 [00:14<00:30,  7.52s/it]\u001b[A"
     ]
    },
    {
     "name": "stdout",
     "output_type": "stream",
     "text": [
      "silhouette_score: 0.13819999992847443\n",
      "adjusted_rand_score: 0.9882\n",
      "adjusted_mutual_info_score: 0.979\n",
      "average_topic_coherence: 0.8057\n",
      "min_samples: 5, min_cluster_size: 60\n"
     ]
    },
    {
     "name": "stderr",
     "output_type": "stream",
     "text": [
      "\n",
      " 50%|██████████████████████████████████████████▌                                          | 3/6 [00:21<00:22,  7.34s/it]\u001b[A"
     ]
    },
    {
     "name": "stdout",
     "output_type": "stream",
     "text": [
      "silhouette_score: 0.13819999992847443\n",
      "adjusted_rand_score: 0.9882\n",
      "adjusted_mutual_info_score: 0.979\n",
      "average_topic_coherence: 0.8057\n",
      "min_samples: 10, min_cluster_size: 10\n"
     ]
    },
    {
     "name": "stderr",
     "output_type": "stream",
     "text": [
      "\n",
      " 67%|████████████████████████████████████████████████████████▋                            | 4/6 [00:28<00:14,  7.03s/it]\u001b[A"
     ]
    },
    {
     "name": "stdout",
     "output_type": "stream",
     "text": [
      "silhouette_score: 0.13819999992847443\n",
      "adjusted_rand_score: 0.9882\n",
      "adjusted_mutual_info_score: 0.979\n",
      "average_topic_coherence: 0.8057\n",
      "min_samples: 10, min_cluster_size: 30\n"
     ]
    },
    {
     "name": "stderr",
     "output_type": "stream",
     "text": [
      "\n",
      " 83%|██████████████████████████████████████████████████████████████████████▊              | 5/6 [00:36<00:07,  7.20s/it]\u001b[A"
     ]
    },
    {
     "name": "stdout",
     "output_type": "stream",
     "text": [
      "silhouette_score: 0.13819999992847443\n",
      "adjusted_rand_score: 0.9882\n",
      "adjusted_mutual_info_score: 0.979\n",
      "average_topic_coherence: 0.8057\n",
      "min_samples: 10, min_cluster_size: 60\n"
     ]
    },
    {
     "name": "stderr",
     "output_type": "stream",
     "text": [
      "\n",
      "100%|█████████████████████████████████████████████████████████████████████████████████████| 6/6 [00:45<00:00,  7.58s/it]\u001b[A\n",
      " 97%|████████████████████████████████████████████████████████████████████████████████▋  | 35/36 [02:30<00:16, 16.84s/it]"
     ]
    },
    {
     "name": "stdout",
     "output_type": "stream",
     "text": [
      "silhouette_score: 0.13819999992847443\n",
      "adjusted_rand_score: 0.9882\n",
      "adjusted_mutual_info_score: 0.979\n",
      "average_topic_coherence: 0.8057\n",
      "silhouette_score: 0.13819999992847443\n",
      "adjusted_rand_score: 0.9882\n",
      "adjusted_mutual_info_score: 0.979\n",
      "average_topic_coherence: 0.8057\n",
      "--------------------------------------------------------------------------------\n",
      "dim_red: pacmap, n_comp: 50, clustering: spectral\n"
     ]
    },
    {
     "name": "stderr",
     "output_type": "stream",
     "text": [
      "100%|███████████████████████████████████████████████████████████████████████████████████| 36/36 [02:39<00:00,  4.43s/it]"
     ]
    },
    {
     "name": "stdout",
     "output_type": "stream",
     "text": [
      "silhouette_score: 0.13819999992847443\n",
      "adjusted_rand_score: 0.9882\n",
      "adjusted_mutual_info_score: 0.979\n",
      "average_topic_coherence: 0.8057\n",
      "--------------------------------------------------------------------------------\n"
     ]
    },
    {
     "name": "stderr",
     "output_type": "stream",
     "text": [
      "\n"
     ]
    }
   ],
   "source": [
    "results_banking = evaluate_classic_clustering(\n",
    "    dataset=\"banking\",\n",
    "    data_path=BANKING_PATH,\n",
    "    num_clasters=3,\n",
    "    dim_reduction_type_list=[None, \"pca\", \"pacmap\"],\n",
    "    n_components_list=[None, 10, 50],\n",
    "    clustering_type_list=[\"kmeans\", \"gmm\", \"hdbscan\", \"spectral\"], # \"mean_shift\"\n",
    "    random_state=42,\n",
    "    min_samples_list=[5, 10],\n",
    "    min_cluster_size_list=[10, 30, 60],\n",
    "    bandwidth_list=[1.00, 1.50, 2.00],\n",
    "    verbose=True,\n",
    "    save_df=False\n",
    ")"
   ]
  },
  {
   "cell_type": "code",
   "execution_count": 30,
   "id": "ae56d503",
   "metadata": {},
   "outputs": [
    {
     "data": {
      "text/html": [
       "<div>\n",
       "<style scoped>\n",
       "    .dataframe tbody tr th:only-of-type {\n",
       "        vertical-align: middle;\n",
       "    }\n",
       "\n",
       "    .dataframe tbody tr th {\n",
       "        vertical-align: top;\n",
       "    }\n",
       "\n",
       "    .dataframe thead th {\n",
       "        text-align: right;\n",
       "    }\n",
       "</style>\n",
       "<table border=\"1\" class=\"dataframe\">\n",
       "  <thead>\n",
       "    <tr style=\"text-align: right;\">\n",
       "      <th></th>\n",
       "      <th>Dim reduction</th>\n",
       "      <th>Clustering</th>\n",
       "      <th>Best params</th>\n",
       "      <th>Adjusted Rand</th>\n",
       "      <th>Adjusted Mutual Info</th>\n",
       "      <th>Silhouette Score</th>\n",
       "      <th>Avg topic coherence</th>\n",
       "      <th>Dim red time, sec</th>\n",
       "      <th>Clustering time, sec</th>\n",
       "    </tr>\n",
       "  </thead>\n",
       "  <tbody>\n",
       "    <tr>\n",
       "      <th>0</th>\n",
       "      <td>-</td>\n",
       "      <td>kmeans</td>\n",
       "      <td>-</td>\n",
       "      <td>0.3873</td>\n",
       "      <td>0.5238</td>\n",
       "      <td>0.1086</td>\n",
       "      <td>0.7914</td>\n",
       "      <td>0.0000</td>\n",
       "      <td>0.0229</td>\n",
       "    </tr>\n",
       "    <tr>\n",
       "      <th>1</th>\n",
       "      <td>-</td>\n",
       "      <td>gmm</td>\n",
       "      <td>-</td>\n",
       "      <td>0.9721</td>\n",
       "      <td>0.9557</td>\n",
       "      <td>0.1381</td>\n",
       "      <td>0.7914</td>\n",
       "      <td>0.0000</td>\n",
       "      <td>0.9545</td>\n",
       "    </tr>\n",
       "    <tr>\n",
       "      <th>2</th>\n",
       "      <td>-</td>\n",
       "      <td>hdbscan</td>\n",
       "      <td>min_s = 5 min_cl_s = 30</td>\n",
       "      <td>0.2160</td>\n",
       "      <td>0.4331</td>\n",
       "      <td>-0.0033</td>\n",
       "      <td>0.8559</td>\n",
       "      <td>0.0000</td>\n",
       "      <td>0.5799</td>\n",
       "    </tr>\n",
       "    <tr>\n",
       "      <th>3</th>\n",
       "      <td>-</td>\n",
       "      <td>spectral</td>\n",
       "      <td>-</td>\n",
       "      <td>0.8111</td>\n",
       "      <td>0.7803</td>\n",
       "      <td>0.1308</td>\n",
       "      <td>0.5980</td>\n",
       "      <td>0.0000</td>\n",
       "      <td>0.0920</td>\n",
       "    </tr>\n",
       "    <tr>\n",
       "      <th>4</th>\n",
       "      <td>pca, feat_dim = 10</td>\n",
       "      <td>kmeans</td>\n",
       "      <td>-</td>\n",
       "      <td>0.3759</td>\n",
       "      <td>0.5089</td>\n",
       "      <td>0.1087</td>\n",
       "      <td>0.7957</td>\n",
       "      <td>0.0846</td>\n",
       "      <td>0.0240</td>\n",
       "    </tr>\n",
       "    <tr>\n",
       "      <th>5</th>\n",
       "      <td>pca, feat_dim = 10</td>\n",
       "      <td>gmm</td>\n",
       "      <td>-</td>\n",
       "      <td>1.0000</td>\n",
       "      <td>1.0000</td>\n",
       "      <td>0.1384</td>\n",
       "      <td>0.8051</td>\n",
       "      <td>0.1441</td>\n",
       "      <td>0.0350</td>\n",
       "    </tr>\n",
       "    <tr>\n",
       "      <th>6</th>\n",
       "      <td>pca, feat_dim = 10</td>\n",
       "      <td>hdbscan</td>\n",
       "      <td>min_s = 5 min_cl_s = 30</td>\n",
       "      <td>0.6503</td>\n",
       "      <td>0.7048</td>\n",
       "      <td>0.0926</td>\n",
       "      <td>0.7402</td>\n",
       "      <td>0.1320</td>\n",
       "      <td>0.0333</td>\n",
       "    </tr>\n",
       "    <tr>\n",
       "      <th>7</th>\n",
       "      <td>pca, feat_dim = 10</td>\n",
       "      <td>spectral</td>\n",
       "      <td>-</td>\n",
       "      <td>0.8901</td>\n",
       "      <td>0.8470</td>\n",
       "      <td>0.1351</td>\n",
       "      <td>0.7365</td>\n",
       "      <td>0.1306</td>\n",
       "      <td>0.1137</td>\n",
       "    </tr>\n",
       "    <tr>\n",
       "      <th>8</th>\n",
       "      <td>pca, feat_dim = 50</td>\n",
       "      <td>kmeans</td>\n",
       "      <td>-</td>\n",
       "      <td>0.3909</td>\n",
       "      <td>0.5266</td>\n",
       "      <td>0.1071</td>\n",
       "      <td>0.7913</td>\n",
       "      <td>0.4223</td>\n",
       "      <td>0.0242</td>\n",
       "    </tr>\n",
       "    <tr>\n",
       "      <th>9</th>\n",
       "      <td>pca, feat_dim = 50</td>\n",
       "      <td>gmm</td>\n",
       "      <td>-</td>\n",
       "      <td>0.9941</td>\n",
       "      <td>0.9895</td>\n",
       "      <td>0.1382</td>\n",
       "      <td>0.8051</td>\n",
       "      <td>0.0770</td>\n",
       "      <td>0.0399</td>\n",
       "    </tr>\n",
       "    <tr>\n",
       "      <th>10</th>\n",
       "      <td>pca, feat_dim = 50</td>\n",
       "      <td>hdbscan</td>\n",
       "      <td>min_s = 5 min_cl_s = 30</td>\n",
       "      <td>0.4539</td>\n",
       "      <td>0.5901</td>\n",
       "      <td>0.0557</td>\n",
       "      <td>0.8274</td>\n",
       "      <td>0.2595</td>\n",
       "      <td>0.0553</td>\n",
       "    </tr>\n",
       "    <tr>\n",
       "      <th>11</th>\n",
       "      <td>pca, feat_dim = 50</td>\n",
       "      <td>spectral</td>\n",
       "      <td>-</td>\n",
       "      <td>0.8118</td>\n",
       "      <td>0.7731</td>\n",
       "      <td>0.1304</td>\n",
       "      <td>0.5788</td>\n",
       "      <td>0.1977</td>\n",
       "      <td>0.0785</td>\n",
       "    </tr>\n",
       "    <tr>\n",
       "      <th>12</th>\n",
       "      <td>pacmap, feat_dim = 10</td>\n",
       "      <td>kmeans</td>\n",
       "      <td>-</td>\n",
       "      <td>0.9882</td>\n",
       "      <td>0.9790</td>\n",
       "      <td>0.1382</td>\n",
       "      <td>0.8057</td>\n",
       "      <td>1.2609</td>\n",
       "      <td>0.5998</td>\n",
       "    </tr>\n",
       "    <tr>\n",
       "      <th>13</th>\n",
       "      <td>pacmap, feat_dim = 10</td>\n",
       "      <td>gmm</td>\n",
       "      <td>-</td>\n",
       "      <td>0.9882</td>\n",
       "      <td>0.9790</td>\n",
       "      <td>0.1382</td>\n",
       "      <td>0.8057</td>\n",
       "      <td>1.1959</td>\n",
       "      <td>1.3289</td>\n",
       "    </tr>\n",
       "    <tr>\n",
       "      <th>14</th>\n",
       "      <td>pacmap, feat_dim = 10</td>\n",
       "      <td>hdbscan</td>\n",
       "      <td>min_s = 5 min_cl_s = 10</td>\n",
       "      <td>0.9882</td>\n",
       "      <td>0.9790</td>\n",
       "      <td>0.1382</td>\n",
       "      <td>0.8057</td>\n",
       "      <td>1.5715</td>\n",
       "      <td>1.1661</td>\n",
       "    </tr>\n",
       "    <tr>\n",
       "      <th>15</th>\n",
       "      <td>pacmap, feat_dim = 10</td>\n",
       "      <td>spectral</td>\n",
       "      <td>-</td>\n",
       "      <td>0.4956</td>\n",
       "      <td>0.6696</td>\n",
       "      <td>0.0739</td>\n",
       "      <td>0.7573</td>\n",
       "      <td>2.0377</td>\n",
       "      <td>2.1472</td>\n",
       "    </tr>\n",
       "    <tr>\n",
       "      <th>16</th>\n",
       "      <td>pacmap, feat_dim = 50</td>\n",
       "      <td>kmeans</td>\n",
       "      <td>-</td>\n",
       "      <td>0.9882</td>\n",
       "      <td>0.9790</td>\n",
       "      <td>0.1382</td>\n",
       "      <td>0.8057</td>\n",
       "      <td>2.4359</td>\n",
       "      <td>2.0101</td>\n",
       "    </tr>\n",
       "    <tr>\n",
       "      <th>17</th>\n",
       "      <td>pacmap, feat_dim = 50</td>\n",
       "      <td>gmm</td>\n",
       "      <td>-</td>\n",
       "      <td>0.9882</td>\n",
       "      <td>0.9790</td>\n",
       "      <td>0.1382</td>\n",
       "      <td>0.8057</td>\n",
       "      <td>1.8656</td>\n",
       "      <td>1.5035</td>\n",
       "    </tr>\n",
       "    <tr>\n",
       "      <th>18</th>\n",
       "      <td>pacmap, feat_dim = 50</td>\n",
       "      <td>hdbscan</td>\n",
       "      <td>min_s = 5 min_cl_s = 10</td>\n",
       "      <td>0.9882</td>\n",
       "      <td>0.9790</td>\n",
       "      <td>0.1382</td>\n",
       "      <td>0.8057</td>\n",
       "      <td>3.1629</td>\n",
       "      <td>3.2886</td>\n",
       "    </tr>\n",
       "    <tr>\n",
       "      <th>19</th>\n",
       "      <td>pacmap, feat_dim = 50</td>\n",
       "      <td>spectral</td>\n",
       "      <td>-</td>\n",
       "      <td>0.9882</td>\n",
       "      <td>0.9790</td>\n",
       "      <td>0.1382</td>\n",
       "      <td>0.8057</td>\n",
       "      <td>2.5468</td>\n",
       "      <td>1.7468</td>\n",
       "    </tr>\n",
       "  </tbody>\n",
       "</table>\n",
       "</div>"
      ],
      "text/plain": [
       "            Dim reduction Clustering              Best params  Adjusted Rand  \\\n",
       "0                       -     kmeans                        -         0.3873   \n",
       "1                       -        gmm                        -         0.9721   \n",
       "2                       -    hdbscan  min_s = 5 min_cl_s = 30         0.2160   \n",
       "3                       -   spectral                        -         0.8111   \n",
       "4      pca, feat_dim = 10     kmeans                        -         0.3759   \n",
       "5      pca, feat_dim = 10        gmm                        -         1.0000   \n",
       "6      pca, feat_dim = 10    hdbscan  min_s = 5 min_cl_s = 30         0.6503   \n",
       "7      pca, feat_dim = 10   spectral                        -         0.8901   \n",
       "8      pca, feat_dim = 50     kmeans                        -         0.3909   \n",
       "9      pca, feat_dim = 50        gmm                        -         0.9941   \n",
       "10     pca, feat_dim = 50    hdbscan  min_s = 5 min_cl_s = 30         0.4539   \n",
       "11     pca, feat_dim = 50   spectral                        -         0.8118   \n",
       "12  pacmap, feat_dim = 10     kmeans                        -         0.9882   \n",
       "13  pacmap, feat_dim = 10        gmm                        -         0.9882   \n",
       "14  pacmap, feat_dim = 10    hdbscan  min_s = 5 min_cl_s = 10         0.9882   \n",
       "15  pacmap, feat_dim = 10   spectral                        -         0.4956   \n",
       "16  pacmap, feat_dim = 50     kmeans                        -         0.9882   \n",
       "17  pacmap, feat_dim = 50        gmm                        -         0.9882   \n",
       "18  pacmap, feat_dim = 50    hdbscan  min_s = 5 min_cl_s = 10         0.9882   \n",
       "19  pacmap, feat_dim = 50   spectral                        -         0.9882   \n",
       "\n",
       "    Adjusted Mutual Info  Silhouette Score  Avg topic coherence  \\\n",
       "0                 0.5238            0.1086               0.7914   \n",
       "1                 0.9557            0.1381               0.7914   \n",
       "2                 0.4331           -0.0033               0.8559   \n",
       "3                 0.7803            0.1308               0.5980   \n",
       "4                 0.5089            0.1087               0.7957   \n",
       "5                 1.0000            0.1384               0.8051   \n",
       "6                 0.7048            0.0926               0.7402   \n",
       "7                 0.8470            0.1351               0.7365   \n",
       "8                 0.5266            0.1071               0.7913   \n",
       "9                 0.9895            0.1382               0.8051   \n",
       "10                0.5901            0.0557               0.8274   \n",
       "11                0.7731            0.1304               0.5788   \n",
       "12                0.9790            0.1382               0.8057   \n",
       "13                0.9790            0.1382               0.8057   \n",
       "14                0.9790            0.1382               0.8057   \n",
       "15                0.6696            0.0739               0.7573   \n",
       "16                0.9790            0.1382               0.8057   \n",
       "17                0.9790            0.1382               0.8057   \n",
       "18                0.9790            0.1382               0.8057   \n",
       "19                0.9790            0.1382               0.8057   \n",
       "\n",
       "    Dim red time, sec  Clustering time, sec  \n",
       "0              0.0000                0.0229  \n",
       "1              0.0000                0.9545  \n",
       "2              0.0000                0.5799  \n",
       "3              0.0000                0.0920  \n",
       "4              0.0846                0.0240  \n",
       "5              0.1441                0.0350  \n",
       "6              0.1320                0.0333  \n",
       "7              0.1306                0.1137  \n",
       "8              0.4223                0.0242  \n",
       "9              0.0770                0.0399  \n",
       "10             0.2595                0.0553  \n",
       "11             0.1977                0.0785  \n",
       "12             1.2609                0.5998  \n",
       "13             1.1959                1.3289  \n",
       "14             1.5715                1.1661  \n",
       "15             2.0377                2.1472  \n",
       "16             2.4359                2.0101  \n",
       "17             1.8656                1.5035  \n",
       "18             3.1629                3.2886  \n",
       "19             2.5468                1.7468  "
      ]
     },
     "execution_count": 30,
     "metadata": {},
     "output_type": "execute_result"
    }
   ],
   "source": [
    "results_banking"
   ]
  },
  {
   "cell_type": "markdown",
   "id": "8cdbbf12",
   "metadata": {},
   "source": [
    "# Deep clustering\n",
    "\n",
    "To train a DeepClustering (DEC) model, the same interface can be used. "
   ]
  },
  {
   "cell_type": "code",
   "execution_count": 53,
   "id": "90076052",
   "metadata": {},
   "outputs": [
    {
     "name": "stdout",
     "output_type": "stream",
     "text": [
      "Phase 1: train embeddings\n"
     ]
    },
    {
     "data": {
      "application/vnd.jupyter.widget-view+json": {
       "model_id": "beaf897ecfd346ba8839cb82ef06e3ea",
       "version_major": 2,
       "version_minor": 0
      },
      "text/plain": [
       "  0%|          | 0/20 [00:00<?, ?it/s]"
      ]
     },
     "metadata": {},
     "output_type": "display_data"
    },
    {
     "name": "stdout",
     "output_type": "stream",
     "text": [
      "Phase 2: train clusters\n"
     ]
    },
    {
     "data": {
      "application/vnd.jupyter.widget-view+json": {
       "model_id": "b5398bec49df4e298c0bff47d26dc0a7",
       "version_major": 2,
       "version_minor": 0
      },
      "text/plain": [
       "  0%|          | 0/8 [00:00<?, ?it/s]"
      ]
     },
     "metadata": {},
     "output_type": "display_data"
    },
    {
     "name": "stdout",
     "output_type": "stream",
     "text": [
      "silhouette_score: 0.04659999907016754\n",
      "adjusted_rand_score: 0.3495\n",
      "adjusted_mutual_info_score: 0.6227\n",
      "average_topic_coherence: 0.7557\n",
      "Dim red time: 76.73716926574707\n",
      "Clust time: 44.125908613204956\n"
     ]
    }
   ],
   "source": [
    "model = TextClustering(\n",
    "    n_clusters=NUM_CLUSTERS,\n",
    "    inp_dim=INP_DIM,\n",
    "    train_dataset=base_embeds,\n",
    "    data_frame=base_data,\n",
    "    feat_dim=10,\n",
    "    kind=\"deep clustering\",\n",
    "    random_state=42\n",
    ")\n",
    "\n",
    "model.fit(base_embeds)\n",
    "_, clusters = model.transform_and_cluster(base_embeds)\n",
    "\n",
    "metrics = model.evaluate(use_true_clusters=True)\n",
    "\n",
    "print(f\"Dim red time: {model.times['dim_red']}\")\n",
    "print(f\"Clust time: {model.times['clust']}\")"
   ]
  },
  {
   "cell_type": "markdown",
   "id": "2ebe52ed",
   "metadata": {},
   "source": [
    "# Contrastive Hierarchical Clustering\n",
    "\n",
    "CoHiClust model can be trained using the same TextClustering wrapper. For this model, you should use OmegaConf configuration file (they are available for Banking and Demo datasets or you can create your own). "
   ]
  },
  {
   "cell_type": "code",
   "execution_count": 57,
   "id": "a5c275be",
   "metadata": {},
   "outputs": [
    {
     "data": {
      "text/plain": [
       "{'model': {'name': 'custom', 'inp_dim': 1024, 'out_dim': 128, 'drop_prob': 0.25, 'linear_dims_list': [2048, 2048, 1024]}, 'dataset': {'dataset_name': 'banking10', 'number_classes': 5, 'n_neighb': 5}, 'tree': {'tree_level': 4}, 'simclr': {'temperature': 0.5, 'k': 10, 'feature_dim_projection_head': 128}, 'training': {'epochs': 50, 'batch_size': 64, 'pretraining_epochs': 20, 'start_pruning_epochs': 30, 'leaves_to_prune': 6}}"
      ]
     },
     "execution_count": 57,
     "metadata": {},
     "output_type": "execute_result"
    }
   ],
   "source": [
    "dataset_name = \"banking\" + str(NUM_CLUSTERS)\n",
    "cohiclust_cfg = OmegaConf.load(f'cfg/{dataset_name}.yaml')\n",
    "cohiclust_cfg"
   ]
  },
  {
   "cell_type": "code",
   "execution_count": 77,
   "id": "8560fc01",
   "metadata": {},
   "outputs": [
    {
     "name": "stdout",
     "output_type": "stream",
     "text": [
      "Computing approximate KNN matrix\n",
      "Computing approximate KNN matrix\n",
      "Computing approximate KNN matrix\n"
     ]
    },
    {
     "data": {
      "application/vnd.jupyter.widget-view+json": {
       "model_id": "7525349a98124a9a8d3693e799462cc2",
       "version_major": 2,
       "version_minor": 0
      },
      "text/plain": [
       "  0%|          | 0/20 [00:00<?, ?it/s]"
      ]
     },
     "metadata": {},
     "output_type": "display_data"
    },
    {
     "data": {
      "application/vnd.jupyter.widget-view+json": {
       "model_id": "f2aabda740944328937258057168b8f1",
       "version_major": 2,
       "version_minor": 0
      },
      "text/plain": [
       "  0%|          | 0/20 [00:00<?, ?it/s]"
      ]
     },
     "metadata": {},
     "output_type": "display_data"
    },
    {
     "data": {
      "application/vnd.jupyter.widget-view+json": {
       "model_id": "a5e74f7736094bea820e7e9e6863cbab",
       "version_major": 2,
       "version_minor": 0
      },
      "text/plain": [
       "  0%|          | 0/20 [00:00<?, ?it/s]"
      ]
     },
     "metadata": {},
     "output_type": "display_data"
    },
    {
     "data": {
      "application/vnd.jupyter.widget-view+json": {
       "model_id": "31ab69ebc2c14c91b6d8ede2424c562d",
       "version_major": 2,
       "version_minor": 0
      },
      "text/plain": [
       "  0%|          | 0/20 [00:00<?, ?it/s]"
      ]
     },
     "metadata": {},
     "output_type": "display_data"
    },
    {
     "data": {
      "application/vnd.jupyter.widget-view+json": {
       "model_id": "5cd54a40f72849b9b599bdb268599169",
       "version_major": 2,
       "version_minor": 0
      },
      "text/plain": [
       "  0%|          | 0/20 [00:00<?, ?it/s]"
      ]
     },
     "metadata": {},
     "output_type": "display_data"
    },
    {
     "data": {
      "application/vnd.jupyter.widget-view+json": {
       "model_id": "510891b6bb634be3a81e5744d407c8c3",
       "version_major": 2,
       "version_minor": 0
      },
      "text/plain": [
       "  0%|          | 0/20 [00:00<?, ?it/s]"
      ]
     },
     "metadata": {},
     "output_type": "display_data"
    },
    {
     "data": {
      "application/vnd.jupyter.widget-view+json": {
       "model_id": "ebfe60e5b2954b3999f084c234681ec2",
       "version_major": 2,
       "version_minor": 0
      },
      "text/plain": [
       "  0%|          | 0/20 [00:00<?, ?it/s]"
      ]
     },
     "metadata": {},
     "output_type": "display_data"
    },
    {
     "data": {
      "application/vnd.jupyter.widget-view+json": {
       "model_id": "b3e591d680ff43eb8e309123d7b47c8a",
       "version_major": 2,
       "version_minor": 0
      },
      "text/plain": [
       "  0%|          | 0/20 [00:00<?, ?it/s]"
      ]
     },
     "metadata": {},
     "output_type": "display_data"
    },
    {
     "data": {
      "application/vnd.jupyter.widget-view+json": {
       "model_id": "c50dcfc6b2474627a2f4e235cfcf8de4",
       "version_major": 2,
       "version_minor": 0
      },
      "text/plain": [
       "  0%|          | 0/20 [00:00<?, ?it/s]"
      ]
     },
     "metadata": {},
     "output_type": "display_data"
    },
    {
     "data": {
      "application/vnd.jupyter.widget-view+json": {
       "model_id": "bdc855e98d9a45a5837a106105c4145c",
       "version_major": 2,
       "version_minor": 0
      },
      "text/plain": [
       "  0%|          | 0/20 [00:00<?, ?it/s]"
      ]
     },
     "metadata": {},
     "output_type": "display_data"
    },
    {
     "data": {
      "application/vnd.jupyter.widget-view+json": {
       "model_id": "9fd1736f264849fcbed482455722ab3c",
       "version_major": 2,
       "version_minor": 0
      },
      "text/plain": [
       "  0%|          | 0/20 [00:00<?, ?it/s]"
      ]
     },
     "metadata": {},
     "output_type": "display_data"
    },
    {
     "data": {
      "application/vnd.jupyter.widget-view+json": {
       "model_id": "eb1f387159594cf08cbd8c56702cb9f0",
       "version_major": 2,
       "version_minor": 0
      },
      "text/plain": [
       "  0%|          | 0/20 [00:00<?, ?it/s]"
      ]
     },
     "metadata": {},
     "output_type": "display_data"
    },
    {
     "data": {
      "application/vnd.jupyter.widget-view+json": {
       "model_id": "0ec575330c274fec92b1bf4e45264882",
       "version_major": 2,
       "version_minor": 0
      },
      "text/plain": [
       "  0%|          | 0/20 [00:00<?, ?it/s]"
      ]
     },
     "metadata": {},
     "output_type": "display_data"
    },
    {
     "data": {
      "application/vnd.jupyter.widget-view+json": {
       "model_id": "f8d47592022147199e32da2e25f2a9d4",
       "version_major": 2,
       "version_minor": 0
      },
      "text/plain": [
       "  0%|          | 0/20 [00:00<?, ?it/s]"
      ]
     },
     "metadata": {},
     "output_type": "display_data"
    },
    {
     "data": {
      "application/vnd.jupyter.widget-view+json": {
       "model_id": "6af1d210b1524bb69172ebe6bec83600",
       "version_major": 2,
       "version_minor": 0
      },
      "text/plain": [
       "  0%|          | 0/20 [00:00<?, ?it/s]"
      ]
     },
     "metadata": {},
     "output_type": "display_data"
    },
    {
     "data": {
      "application/vnd.jupyter.widget-view+json": {
       "model_id": "c5271b166f41440fb80dc9133db2b709",
       "version_major": 2,
       "version_minor": 0
      },
      "text/plain": [
       "  0%|          | 0/20 [00:00<?, ?it/s]"
      ]
     },
     "metadata": {},
     "output_type": "display_data"
    },
    {
     "data": {
      "application/vnd.jupyter.widget-view+json": {
       "model_id": "c33bcb6139ff4dde8215efb959e9efa6",
       "version_major": 2,
       "version_minor": 0
      },
      "text/plain": [
       "  0%|          | 0/20 [00:00<?, ?it/s]"
      ]
     },
     "metadata": {},
     "output_type": "display_data"
    },
    {
     "data": {
      "application/vnd.jupyter.widget-view+json": {
       "model_id": "83f14b62653b4a7386d14633b91b4430",
       "version_major": 2,
       "version_minor": 0
      },
      "text/plain": [
       "  0%|          | 0/20 [00:00<?, ?it/s]"
      ]
     },
     "metadata": {},
     "output_type": "display_data"
    },
    {
     "data": {
      "application/vnd.jupyter.widget-view+json": {
       "model_id": "930bc4476763496db59b744e90159327",
       "version_major": 2,
       "version_minor": 0
      },
      "text/plain": [
       "  0%|          | 0/20 [00:00<?, ?it/s]"
      ]
     },
     "metadata": {},
     "output_type": "display_data"
    },
    {
     "data": {
      "application/vnd.jupyter.widget-view+json": {
       "model_id": "4ec712f2073a48b0a81c4a93f4812586",
       "version_major": 2,
       "version_minor": 0
      },
      "text/plain": [
       "  0%|          | 0/20 [00:00<?, ?it/s]"
      ]
     },
     "metadata": {},
     "output_type": "display_data"
    },
    {
     "data": {
      "application/vnd.jupyter.widget-view+json": {
       "model_id": "0eda75e526d34b6ba706540d1928f4de",
       "version_major": 2,
       "version_minor": 0
      },
      "text/plain": [
       "  0%|          | 0/20 [00:00<?, ?it/s]"
      ]
     },
     "metadata": {},
     "output_type": "display_data"
    },
    {
     "data": {
      "application/vnd.jupyter.widget-view+json": {
       "model_id": "caf42999d8db4ddf98557cb4c0590e7c",
       "version_major": 2,
       "version_minor": 0
      },
      "text/plain": [
       "  0%|          | 0/9 [00:00<?, ?it/s]"
      ]
     },
     "metadata": {},
     "output_type": "display_data"
    },
    {
     "data": {
      "application/vnd.jupyter.widget-view+json": {
       "model_id": "afd6926f201c416d961dbf772217afaa",
       "version_major": 2,
       "version_minor": 0
      },
      "text/plain": [
       "  0%|          | 0/20 [00:00<?, ?it/s]"
      ]
     },
     "metadata": {},
     "output_type": "display_data"
    },
    {
     "data": {
      "application/vnd.jupyter.widget-view+json": {
       "model_id": "2f8e5f1e99524dcba40a7e7e1d9e53b3",
       "version_major": 2,
       "version_minor": 0
      },
      "text/plain": [
       "  0%|          | 0/9 [00:00<?, ?it/s]"
      ]
     },
     "metadata": {},
     "output_type": "display_data"
    },
    {
     "data": {
      "application/vnd.jupyter.widget-view+json": {
       "model_id": "3ace56ec4fe248d2904bc6ce2d87267a",
       "version_major": 2,
       "version_minor": 0
      },
      "text/plain": [
       "  0%|          | 0/20 [00:00<?, ?it/s]"
      ]
     },
     "metadata": {},
     "output_type": "display_data"
    },
    {
     "data": {
      "application/vnd.jupyter.widget-view+json": {
       "model_id": "e6e375b66cce4d8bbe22d8eaff5296ef",
       "version_major": 2,
       "version_minor": 0
      },
      "text/plain": [
       "  0%|          | 0/9 [00:00<?, ?it/s]"
      ]
     },
     "metadata": {},
     "output_type": "display_data"
    },
    {
     "data": {
      "application/vnd.jupyter.widget-view+json": {
       "model_id": "6b6b56ded5fe4ba7a57b3fa65c210287",
       "version_major": 2,
       "version_minor": 0
      },
      "text/plain": [
       "  0%|          | 0/20 [00:00<?, ?it/s]"
      ]
     },
     "metadata": {},
     "output_type": "display_data"
    },
    {
     "data": {
      "application/vnd.jupyter.widget-view+json": {
       "model_id": "9f1c441faee2437f944737cb4f3b7776",
       "version_major": 2,
       "version_minor": 0
      },
      "text/plain": [
       "  0%|          | 0/9 [00:00<?, ?it/s]"
      ]
     },
     "metadata": {},
     "output_type": "display_data"
    },
    {
     "data": {
      "application/vnd.jupyter.widget-view+json": {
       "model_id": "9e7bfe879b08414396790957941c38f7",
       "version_major": 2,
       "version_minor": 0
      },
      "text/plain": [
       "  0%|          | 0/20 [00:00<?, ?it/s]"
      ]
     },
     "metadata": {},
     "output_type": "display_data"
    },
    {
     "data": {
      "application/vnd.jupyter.widget-view+json": {
       "model_id": "f2972414fff9484188001d5eae9f917e",
       "version_major": 2,
       "version_minor": 0
      },
      "text/plain": [
       "  0%|          | 0/9 [00:00<?, ?it/s]"
      ]
     },
     "metadata": {},
     "output_type": "display_data"
    },
    {
     "data": {
      "application/vnd.jupyter.widget-view+json": {
       "model_id": "02a3a0b277624c8694fad9587d622646",
       "version_major": 2,
       "version_minor": 0
      },
      "text/plain": [
       "  0%|          | 0/20 [00:00<?, ?it/s]"
      ]
     },
     "metadata": {},
     "output_type": "display_data"
    },
    {
     "data": {
      "application/vnd.jupyter.widget-view+json": {
       "model_id": "40c1f290dc6548c88c03c177743bc839",
       "version_major": 2,
       "version_minor": 0
      },
      "text/plain": [
       "  0%|          | 0/9 [00:00<?, ?it/s]"
      ]
     },
     "metadata": {},
     "output_type": "display_data"
    },
    {
     "data": {
      "application/vnd.jupyter.widget-view+json": {
       "model_id": "9392251fdbe54a1b8daf8280a9e9a04b",
       "version_major": 2,
       "version_minor": 0
      },
      "text/plain": [
       "  0%|          | 0/20 [00:00<?, ?it/s]"
      ]
     },
     "metadata": {},
     "output_type": "display_data"
    },
    {
     "data": {
      "application/vnd.jupyter.widget-view+json": {
       "model_id": "223db71a189c4727a8ddc0b79a8e8bf5",
       "version_major": 2,
       "version_minor": 0
      },
      "text/plain": [
       "  0%|          | 0/9 [00:00<?, ?it/s]"
      ]
     },
     "metadata": {},
     "output_type": "display_data"
    },
    {
     "data": {
      "application/vnd.jupyter.widget-view+json": {
       "model_id": "b3113b64f0674e8a920c4210af4519cc",
       "version_major": 2,
       "version_minor": 0
      },
      "text/plain": [
       "  0%|          | 0/20 [00:00<?, ?it/s]"
      ]
     },
     "metadata": {},
     "output_type": "display_data"
    },
    {
     "data": {
      "application/vnd.jupyter.widget-view+json": {
       "model_id": "271a5a40110a4f87893c63cebeada60a",
       "version_major": 2,
       "version_minor": 0
      },
      "text/plain": [
       "  0%|          | 0/9 [00:00<?, ?it/s]"
      ]
     },
     "metadata": {},
     "output_type": "display_data"
    },
    {
     "data": {
      "application/vnd.jupyter.widget-view+json": {
       "model_id": "63981fd44d5248d98b363122512c8001",
       "version_major": 2,
       "version_minor": 0
      },
      "text/plain": [
       "  0%|          | 0/20 [00:00<?, ?it/s]"
      ]
     },
     "metadata": {},
     "output_type": "display_data"
    },
    {
     "data": {
      "application/vnd.jupyter.widget-view+json": {
       "model_id": "028582a7ea574f3b9804d6dbaa80599e",
       "version_major": 2,
       "version_minor": 0
      },
      "text/plain": [
       "  0%|          | 0/9 [00:00<?, ?it/s]"
      ]
     },
     "metadata": {},
     "output_type": "display_data"
    },
    {
     "data": {
      "application/vnd.jupyter.widget-view+json": {
       "model_id": "ef62434277f34b598c5cd4744c9b8830",
       "version_major": 2,
       "version_minor": 0
      },
      "text/plain": [
       "  0%|          | 0/20 [00:00<?, ?it/s]"
      ]
     },
     "metadata": {},
     "output_type": "display_data"
    },
    {
     "data": {
      "application/vnd.jupyter.widget-view+json": {
       "model_id": "e239e3e8c2804ce6bacb6009f410f5f7",
       "version_major": 2,
       "version_minor": 0
      },
      "text/plain": [
       "  0%|          | 0/9 [00:00<?, ?it/s]"
      ]
     },
     "metadata": {},
     "output_type": "display_data"
    },
    {
     "data": {
      "application/vnd.jupyter.widget-view+json": {
       "model_id": "6940938a874841cfbbdbbf703b8257d1",
       "version_major": 2,
       "version_minor": 0
      },
      "text/plain": [
       "  0%|          | 0/20 [00:00<?, ?it/s]"
      ]
     },
     "metadata": {},
     "output_type": "display_data"
    },
    {
     "data": {
      "application/vnd.jupyter.widget-view+json": {
       "model_id": "1c27aa2b420c42dab98db8e93ebdb22a",
       "version_major": 2,
       "version_minor": 0
      },
      "text/plain": [
       "  0%|          | 0/9 [00:00<?, ?it/s]"
      ]
     },
     "metadata": {},
     "output_type": "display_data"
    },
    {
     "data": {
      "application/vnd.jupyter.widget-view+json": {
       "model_id": "c9356369970b45539b71d7c0294530da",
       "version_major": 2,
       "version_minor": 0
      },
      "text/plain": [
       "  0%|          | 0/20 [00:00<?, ?it/s]"
      ]
     },
     "metadata": {},
     "output_type": "display_data"
    },
    {
     "data": {
      "application/vnd.jupyter.widget-view+json": {
       "model_id": "0b3440c7e95c413792ff8487a74e2f15",
       "version_major": 2,
       "version_minor": 0
      },
      "text/plain": [
       "  0%|          | 0/9 [00:00<?, ?it/s]"
      ]
     },
     "metadata": {},
     "output_type": "display_data"
    },
    {
     "data": {
      "application/vnd.jupyter.widget-view+json": {
       "model_id": "93921641956d4186ad5deee3f86659ce",
       "version_major": 2,
       "version_minor": 0
      },
      "text/plain": [
       "  0%|          | 0/20 [00:00<?, ?it/s]"
      ]
     },
     "metadata": {},
     "output_type": "display_data"
    },
    {
     "data": {
      "application/vnd.jupyter.widget-view+json": {
       "model_id": "6e4c2911b68447e491f27794557b89d3",
       "version_major": 2,
       "version_minor": 0
      },
      "text/plain": [
       "  0%|          | 0/9 [00:00<?, ?it/s]"
      ]
     },
     "metadata": {},
     "output_type": "display_data"
    },
    {
     "data": {
      "application/vnd.jupyter.widget-view+json": {
       "model_id": "b23309cc55cc42c080aa2d038a2c8aa5",
       "version_major": 2,
       "version_minor": 0
      },
      "text/plain": [
       "  0%|          | 0/20 [00:00<?, ?it/s]"
      ]
     },
     "metadata": {},
     "output_type": "display_data"
    },
    {
     "data": {
      "application/vnd.jupyter.widget-view+json": {
       "model_id": "79d7d95d78b746ffb7aea6ce7171b25d",
       "version_major": 2,
       "version_minor": 0
      },
      "text/plain": [
       "  0%|          | 0/9 [00:00<?, ?it/s]"
      ]
     },
     "metadata": {},
     "output_type": "display_data"
    },
    {
     "data": {
      "application/vnd.jupyter.widget-view+json": {
       "model_id": "297242466892488b9e83172f1a9a888d",
       "version_major": 2,
       "version_minor": 0
      },
      "text/plain": [
       "  0%|          | 0/20 [00:00<?, ?it/s]"
      ]
     },
     "metadata": {},
     "output_type": "display_data"
    },
    {
     "data": {
      "application/vnd.jupyter.widget-view+json": {
       "model_id": "fea1299fd014406a8ef8bacfb1d1b219",
       "version_major": 2,
       "version_minor": 0
      },
      "text/plain": [
       "  0%|          | 0/9 [00:00<?, ?it/s]"
      ]
     },
     "metadata": {},
     "output_type": "display_data"
    },
    {
     "data": {
      "application/vnd.jupyter.widget-view+json": {
       "model_id": "5b26b8ef476344478b7b394f05796b5f",
       "version_major": 2,
       "version_minor": 0
      },
      "text/plain": [
       "  0%|          | 0/20 [00:00<?, ?it/s]"
      ]
     },
     "metadata": {},
     "output_type": "display_data"
    },
    {
     "data": {
      "application/vnd.jupyter.widget-view+json": {
       "model_id": "a2805634d07f4a44b286ec0300414ef2",
       "version_major": 2,
       "version_minor": 0
      },
      "text/plain": [
       "  0%|          | 0/9 [00:00<?, ?it/s]"
      ]
     },
     "metadata": {},
     "output_type": "display_data"
    },
    {
     "data": {
      "application/vnd.jupyter.widget-view+json": {
       "model_id": "5251190829324540bf5ac828272f2af0",
       "version_major": 2,
       "version_minor": 0
      },
      "text/plain": [
       "  0%|          | 0/20 [00:00<?, ?it/s]"
      ]
     },
     "metadata": {},
     "output_type": "display_data"
    },
    {
     "data": {
      "application/vnd.jupyter.widget-view+json": {
       "model_id": "b69837d719d542d2ba73883160384d4b",
       "version_major": 2,
       "version_minor": 0
      },
      "text/plain": [
       "  0%|          | 0/9 [00:00<?, ?it/s]"
      ]
     },
     "metadata": {},
     "output_type": "display_data"
    },
    {
     "data": {
      "application/vnd.jupyter.widget-view+json": {
       "model_id": "c4b75f341f35479fb6c7a1352557d6a3",
       "version_major": 2,
       "version_minor": 0
      },
      "text/plain": [
       "  0%|          | 0/20 [00:00<?, ?it/s]"
      ]
     },
     "metadata": {},
     "output_type": "display_data"
    },
    {
     "data": {
      "application/vnd.jupyter.widget-view+json": {
       "model_id": "ee24e4b333134ee99d0e629bdf8c1c4f",
       "version_major": 2,
       "version_minor": 0
      },
      "text/plain": [
       "  0%|          | 0/9 [00:00<?, ?it/s]"
      ]
     },
     "metadata": {},
     "output_type": "display_data"
    },
    {
     "data": {
      "application/vnd.jupyter.widget-view+json": {
       "model_id": "ff4d188aee5145188a8cf812cf47a1bf",
       "version_major": 2,
       "version_minor": 0
      },
      "text/plain": [
       "  0%|          | 0/20 [00:00<?, ?it/s]"
      ]
     },
     "metadata": {},
     "output_type": "display_data"
    },
    {
     "data": {
      "application/vnd.jupyter.widget-view+json": {
       "model_id": "bd6a26bd179c4ca8a82e53ddfe30aba9",
       "version_major": 2,
       "version_minor": 0
      },
      "text/plain": [
       "  0%|          | 0/9 [00:00<?, ?it/s]"
      ]
     },
     "metadata": {},
     "output_type": "display_data"
    },
    {
     "data": {
      "application/vnd.jupyter.widget-view+json": {
       "model_id": "dd8a7ff2634b40bb881299fcb5e565e8",
       "version_major": 2,
       "version_minor": 0
      },
      "text/plain": [
       "  0%|          | 0/20 [00:00<?, ?it/s]"
      ]
     },
     "metadata": {},
     "output_type": "display_data"
    },
    {
     "data": {
      "application/vnd.jupyter.widget-view+json": {
       "model_id": "170cf176612c4b75a00619b7f3a9f596",
       "version_major": 2,
       "version_minor": 0
      },
      "text/plain": [
       "  0%|          | 0/9 [00:00<?, ?it/s]"
      ]
     },
     "metadata": {},
     "output_type": "display_data"
    },
    {
     "data": {
      "application/vnd.jupyter.widget-view+json": {
       "model_id": "4ac435d8ef1949998ad012745c25b1f3",
       "version_major": 2,
       "version_minor": 0
      },
      "text/plain": [
       "  0%|          | 0/20 [00:00<?, ?it/s]"
      ]
     },
     "metadata": {},
     "output_type": "display_data"
    },
    {
     "data": {
      "application/vnd.jupyter.widget-view+json": {
       "model_id": "a3eb20bb5bf24a659c6a57dc94ef6158",
       "version_major": 2,
       "version_minor": 0
      },
      "text/plain": [
       "  0%|          | 0/9 [00:00<?, ?it/s]"
      ]
     },
     "metadata": {},
     "output_type": "display_data"
    },
    {
     "data": {
      "application/vnd.jupyter.widget-view+json": {
       "model_id": "aea0c81b02154364ab61430d18b9d0ed",
       "version_major": 2,
       "version_minor": 0
      },
      "text/plain": [
       "  0%|          | 0/20 [00:00<?, ?it/s]"
      ]
     },
     "metadata": {},
     "output_type": "display_data"
    },
    {
     "data": {
      "application/vnd.jupyter.widget-view+json": {
       "model_id": "981eef1e4ef74caea13181dc212a4088",
       "version_major": 2,
       "version_minor": 0
      },
      "text/plain": [
       "  0%|          | 0/9 [00:00<?, ?it/s]"
      ]
     },
     "metadata": {},
     "output_type": "display_data"
    },
    {
     "data": {
      "application/vnd.jupyter.widget-view+json": {
       "model_id": "5554137211874d178786a01304488434",
       "version_major": 2,
       "version_minor": 0
      },
      "text/plain": [
       "  0%|          | 0/20 [00:00<?, ?it/s]"
      ]
     },
     "metadata": {},
     "output_type": "display_data"
    },
    {
     "data": {
      "application/vnd.jupyter.widget-view+json": {
       "model_id": "1e3eaf0f13524cafabcb9cec444c3c46",
       "version_major": 2,
       "version_minor": 0
      },
      "text/plain": [
       "  0%|          | 0/9 [00:00<?, ?it/s]"
      ]
     },
     "metadata": {},
     "output_type": "display_data"
    },
    {
     "data": {
      "application/vnd.jupyter.widget-view+json": {
       "model_id": "c67f298c26474e2a8be2cb0b05a7dd67",
       "version_major": 2,
       "version_minor": 0
      },
      "text/plain": [
       "  0%|          | 0/20 [00:00<?, ?it/s]"
      ]
     },
     "metadata": {},
     "output_type": "display_data"
    },
    {
     "data": {
      "application/vnd.jupyter.widget-view+json": {
       "model_id": "2e15221b36dc42f29f4d6fa4faa2b361",
       "version_major": 2,
       "version_minor": 0
      },
      "text/plain": [
       "  0%|          | 0/9 [00:00<?, ?it/s]"
      ]
     },
     "metadata": {},
     "output_type": "display_data"
    },
    {
     "data": {
      "application/vnd.jupyter.widget-view+json": {
       "model_id": "a1ba75cece2d43f0b8d9700a60d11a73",
       "version_major": 2,
       "version_minor": 0
      },
      "text/plain": [
       "  0%|          | 0/20 [00:00<?, ?it/s]"
      ]
     },
     "metadata": {},
     "output_type": "display_data"
    },
    {
     "data": {
      "application/vnd.jupyter.widget-view+json": {
       "model_id": "4e3ee6413fbc4179a83e7dbdd1a12990",
       "version_major": 2,
       "version_minor": 0
      },
      "text/plain": [
       "  0%|          | 0/9 [00:00<?, ?it/s]"
      ]
     },
     "metadata": {},
     "output_type": "display_data"
    },
    {
     "data": {
      "application/vnd.jupyter.widget-view+json": {
       "model_id": "63e8e2715a6a4c959889e68ec4d3ca04",
       "version_major": 2,
       "version_minor": 0
      },
      "text/plain": [
       "  0%|          | 0/20 [00:00<?, ?it/s]"
      ]
     },
     "metadata": {},
     "output_type": "display_data"
    },
    {
     "data": {
      "application/vnd.jupyter.widget-view+json": {
       "model_id": "4a5fc927890f407fa210b21df6b38984",
       "version_major": 2,
       "version_minor": 0
      },
      "text/plain": [
       "  0%|          | 0/9 [00:00<?, ?it/s]"
      ]
     },
     "metadata": {},
     "output_type": "display_data"
    },
    {
     "data": {
      "application/vnd.jupyter.widget-view+json": {
       "model_id": "3e1c3b56d7f442129c7dc721f39b084e",
       "version_major": 2,
       "version_minor": 0
      },
      "text/plain": [
       "  0%|          | 0/20 [00:00<?, ?it/s]"
      ]
     },
     "metadata": {},
     "output_type": "display_data"
    },
    {
     "data": {
      "application/vnd.jupyter.widget-view+json": {
       "model_id": "2ef53ef1c54a4618af6c3f54a06eb759",
       "version_major": 2,
       "version_minor": 0
      },
      "text/plain": [
       "  0%|          | 0/9 [00:00<?, ?it/s]"
      ]
     },
     "metadata": {},
     "output_type": "display_data"
    },
    {
     "data": {
      "application/vnd.jupyter.widget-view+json": {
       "model_id": "35e420a0fa4343aa9b92681eee25fe66",
       "version_major": 2,
       "version_minor": 0
      },
      "text/plain": [
       "  0%|          | 0/20 [00:00<?, ?it/s]"
      ]
     },
     "metadata": {},
     "output_type": "display_data"
    },
    {
     "data": {
      "application/vnd.jupyter.widget-view+json": {
       "model_id": "fbcc666735aa435583ec98f8eb472020",
       "version_major": 2,
       "version_minor": 0
      },
      "text/plain": [
       "  0%|          | 0/9 [00:00<?, ?it/s]"
      ]
     },
     "metadata": {},
     "output_type": "display_data"
    },
    {
     "data": {
      "application/vnd.jupyter.widget-view+json": {
       "model_id": "ee05ffed56c84fd8bb04fe69908e9d0a",
       "version_major": 2,
       "version_minor": 0
      },
      "text/plain": [
       "  0%|          | 0/20 [00:00<?, ?it/s]"
      ]
     },
     "metadata": {},
     "output_type": "display_data"
    },
    {
     "data": {
      "application/vnd.jupyter.widget-view+json": {
       "model_id": "b158983a543540b3bf9add920a50741f",
       "version_major": 2,
       "version_minor": 0
      },
      "text/plain": [
       "  0%|          | 0/9 [00:00<?, ?it/s]"
      ]
     },
     "metadata": {},
     "output_type": "display_data"
    },
    {
     "data": {
      "application/vnd.jupyter.widget-view+json": {
       "model_id": "fd1fcff6f51546e68da54d25e9c25e5e",
       "version_major": 2,
       "version_minor": 0
      },
      "text/plain": [
       "  0%|          | 0/20 [00:00<?, ?it/s]"
      ]
     },
     "metadata": {},
     "output_type": "display_data"
    },
    {
     "data": {
      "application/vnd.jupyter.widget-view+json": {
       "model_id": "8df95785f1d24536ad1e9ed25581b06c",
       "version_major": 2,
       "version_minor": 0
      },
      "text/plain": [
       "  0%|          | 0/9 [00:00<?, ?it/s]"
      ]
     },
     "metadata": {},
     "output_type": "display_data"
    },
    {
     "data": {
      "application/vnd.jupyter.widget-view+json": {
       "model_id": "f759f611bb0c401b97693aa9629fe6e4",
       "version_major": 2,
       "version_minor": 0
      },
      "text/plain": [
       "  0%|          | 0/29 [00:00<?, ?it/s]"
      ]
     },
     "metadata": {},
     "output_type": "display_data"
    },
    {
     "data": {
      "application/vnd.jupyter.widget-view+json": {
       "model_id": "d35bfc41b2c3480eb7b4174127471cca",
       "version_major": 2,
       "version_minor": 0
      },
      "text/plain": [
       "  0%|          | 0/29 [00:00<?, ?it/s]"
      ]
     },
     "metadata": {},
     "output_type": "display_data"
    },
    {
     "name": "stdout",
     "output_type": "stream",
     "text": [
      "silhouette_score: 0.055399999022483826\n",
      "adjusted_rand_score: 0.7863\n",
      "adjusted_mutual_info_score: 0.8578\n",
      "average_topic_coherence: 0.7775\n",
      "Dim red time: 0\n",
      "Clust time: 70.25820064544678\n"
     ]
    }
   ],
   "source": [
    "model = TextClustering(\n",
    "    n_clusters=NUM_CLUSTERS,\n",
    "    inp_dim=INP_DIM,\n",
    "    train_dataset=base_embeds,\n",
    "    data_frame=base_data,\n",
    "    cohiclust_cfg=cohiclust_cfg,\n",
    "    feat_dim=10,\n",
    "    kind=\"cohiclust\",\n",
    "    random_state=42\n",
    ")\n",
    "\n",
    "model.fit(base_embeds)\n",
    "_, clusters = model.transform_and_cluster(base_embeds)\n",
    "\n",
    "metrics = model.evaluate(use_true_clusters=True)\n",
    "\n",
    "print(f\"Dim red time: {model.times['dim_red']}\")\n",
    "print(f\"Clust time: {model.times['clust']}\")"
   ]
  }
 ],
 "metadata": {
  "kernelspec": {
   "display_name": "Python 3 (ipykernel)",
   "language": "python",
   "name": "python3"
  },
  "language_info": {
   "codemirror_mode": {
    "name": "ipython",
    "version": 3
   },
   "file_extension": ".py",
   "mimetype": "text/x-python",
   "name": "python",
   "nbconvert_exporter": "python",
   "pygments_lexer": "ipython3",
   "version": "3.10.8"
  }
 },
 "nbformat": 4,
 "nbformat_minor": 5
}
