{
 "cells": [
  {
   "cell_type": "markdown",
   "id": "33a40a2a",
   "metadata": {},
   "source": [
    "This notebook contains examples of TextClustering model usage for Banking77 datasets."
   ]
  },
  {
   "cell_type": "code",
   "execution_count": 44,
   "id": "1f250473",
   "metadata": {},
   "outputs": [
    {
     "name": "stdout",
     "output_type": "stream",
     "text": [
      "The autoreload extension is already loaded. To reload it, use:\n",
      "  %reload_ext autoreload\n"
     ]
    }
   ],
   "source": [
    "import pandas as pd\n",
    "import numpy as np\n",
    "\n",
    "from omegaconf import OmegaConf\n",
    "\n",
    "import os\n",
    "os.environ[\"TOKENIZERS_PARALLELISM\"] = \"false\"\n",
    "\n",
    "from utils.data_utils import *\n",
    "from text_clustering import TextClustering\n",
    "from utils.evaluation_utils import evaluate_classic_clustering\n",
    "from utils.training_and_visualisation import plot_losses\n",
    "\n",
    "%load_ext autoreload\n",
    "%autoreload"
   ]
  },
  {
   "cell_type": "markdown",
   "id": "2e2d326a",
   "metadata": {},
   "source": [
    "# Load data\n",
    "\n",
    "To load and split Banking or Demo datasets, you may use functions from ```utils/data_utils.py```. You need to place .csv file with texts (and, possibly, cluester markup) in ```BANKING_PATH``` directory. This directory should contain subdirectory ```embeds/``` with texts embeddings saved as a torch.Tensor of shape ```[n_texts, input_dim]```. \n",
    "\n",
    "To add a custom dataset, you need a dataframe containing texts (column 'text') and markup (columns 'cluster') and a tensor of embeddings. Make sure that ```len(dataframe) == embeds.shape[0]```."
   ]
  },
  {
   "cell_type": "code",
   "execution_count": 2,
   "id": "e97d1ad3",
   "metadata": {},
   "outputs": [],
   "source": [
    "BANKING_PATH = \"data/banking77/\"\n",
    "\n",
    "data_all, clusters_all, embeds_t5_all = load_banking_data(BANKING_PATH)\n",
    "\n",
    "NUM_CLUSTERS = 10\n",
    "\n",
    "base_embeds, _, base_data, base_clusters = sample_banking_clusters(\n",
    "    dataframe=data_all,\n",
    "    raw_embeds=embeds_t5_all,\n",
    "    cluster_num_list=np.linspace(0, NUM_CLUSTERS - 1, NUM_CLUSTERS)\n",
    ")\n",
    "\n",
    "INP_DIM = base_embeds.shape[1]"
   ]
  },
  {
   "cell_type": "markdown",
   "id": "bdfb2287",
   "metadata": {},
   "source": [
    "# Classic algorithms\n",
    "\n",
    "To initialize a classic clustering model, you need to choose dimensionality reduction type (None, 'pca', 'umap', 'tsne' or 'pacmap'), number of components (aka ```feat_dim```), clustering type ('kmeans', 'gmm', 'hdbscan', 'mean_shift' or 'spectral') and its hyper-parameters (```min_samples``` and ```min_cluster_size``` for HDBSCAN; ```bandwidth``` for MeanShift).\n",
    "Once TextClustering model with the necessary parameters is initialized, it can be fitted and evaluated in the following way."
   ]
  },
  {
   "cell_type": "code",
   "execution_count": 6,
   "id": "c8f56b17",
   "metadata": {},
   "outputs": [
    {
     "name": "stdout",
     "output_type": "stream",
     "text": [
      "silhouette_score: 0.0737999975681305\n",
      "adjusted_rand_score: 0.6782\n",
      "adjusted_mutual_info_score: 0.809\n",
      "average_topic_coherence: 0.7979\n",
      "Dim red time: 12.172766208648682\n",
      "Clust time: 0.14461278915405273\n"
     ]
    }
   ],
   "source": [
    "model = TextClustering(\n",
    "    n_clusters=NUM_CLUSTERS,\n",
    "    inp_dim=INP_DIM,\n",
    "    feat_dim=10,\n",
    "    train_dataset=base_embeds,\n",
    "    data_frame=base_data,\n",
    "    kind=\"classic clustering\",\n",
    "    dim_reduction_type=\"umap\",\n",
    "    clustering_type=\"gmm\",\n",
    "    random_state=42\n",
    ")\n",
    "\n",
    "model.fit(base_embeds)\n",
    "_, clusters = model.transform_and_cluster(base_embeds)\n",
    "\n",
    "metrics = model.evaluate(use_true_clusters=True)\n",
    "\n",
    "print(f\"Dim red time: {model.times['dim_red']}\")\n",
    "print(f\"Clust time: {model.times['clust']}\")"
   ]
  },
  {
   "cell_type": "markdown",
   "id": "858f12ed",
   "metadata": {},
   "source": [
    "To run a series of experiments with grid search and save results in a .csv file, you may use the following function defined in ```evaluation_utils.py```."
   ]
  },
  {
   "cell_type": "code",
   "execution_count": 15,
   "id": "21773fc2",
   "metadata": {},
   "outputs": [
    {
     "name": "stderr",
     "output_type": "stream",
     "text": [
      "\r",
      "  0%|          | 0/36 [00:00<?, ?it/s]"
     ]
    },
    {
     "name": "stdout",
     "output_type": "stream",
     "text": [
      "dim_red: None, n_comp: None, clustering: kmeans\n"
     ]
    },
    {
     "name": "stderr",
     "output_type": "stream",
     "text": [
      "\r",
      "  3%|▎         | 1/36 [00:03<02:14,  3.83s/it]"
     ]
    },
    {
     "name": "stdout",
     "output_type": "stream",
     "text": [
      "silhouette_score: 0.13809999823570251\n",
      "adjusted_rand_score: 0.9721\n",
      "adjusted_mutual_info_score: 0.9557\n",
      "average_topic_coherence: 0.7618\n",
      "--------------------------------------------------------------------------------\n",
      "  Dim reduction Clustering Best params  Adjusted Rand  Adjusted Mutual Info   \n",
      "0             -     kmeans           -       0.972135                0.9557  \\\n",
      "\n",
      "   Silhouette Score  Avg topic coherence  Dim red time, sec   \n",
      "0          0.138146             0.761817                0.0  \\\n",
      "\n",
      "   Clustering time, sec  \n",
      "0              0.048869  \n",
      "dim_red: None, n_comp: None, clustering: gmm\n"
     ]
    },
    {
     "name": "stderr",
     "output_type": "stream",
     "text": [
      "\r",
      "  6%|▌         | 2/36 [00:09<02:54,  5.12s/it]"
     ]
    },
    {
     "name": "stdout",
     "output_type": "stream",
     "text": [
      "silhouette_score: 0.13809999823570251\n",
      "adjusted_rand_score: 0.9721\n",
      "adjusted_mutual_info_score: 0.9557\n",
      "average_topic_coherence: 0.7914\n",
      "--------------------------------------------------------------------------------\n",
      "  Dim reduction Clustering Best params  Adjusted Rand  Adjusted Mutual Info   \n",
      "0             -        gmm           -       0.972135                0.9557  \\\n",
      "\n",
      "   Silhouette Score  Avg topic coherence  Dim red time, sec   \n",
      "0          0.138146             0.791376                0.0  \\\n",
      "\n",
      "   Clustering time, sec  \n",
      "0              0.970591  \n",
      "dim_red: None, n_comp: None, clustering: hdbscan\n",
      "Grid search for HDBSCAN parameters\n"
     ]
    },
    {
     "name": "stderr",
     "output_type": "stream",
     "text": [
      "\n",
      "  0%|          | 0/6 [00:00<?, ?it/s]\u001b[A"
     ]
    },
    {
     "name": "stdout",
     "output_type": "stream",
     "text": [
      "min_samples: 5, min_cluster_size: 10\n"
     ]
    },
    {
     "name": "stderr",
     "output_type": "stream",
     "text": [
      "\n",
      " 17%|█▋        | 1/6 [00:06<00:34,  6.81s/it]\u001b[A"
     ]
    },
    {
     "name": "stdout",
     "output_type": "stream",
     "text": [
      "silhouette_score: -0.04439999908208847\n",
      "adjusted_rand_score: 0.1016\n",
      "adjusted_mutual_info_score: 0.3382\n",
      "average_topic_coherence: 0.7753\n",
      "min_samples: 5, min_cluster_size: 30\n"
     ]
    },
    {
     "name": "stderr",
     "output_type": "stream",
     "text": [
      "\n",
      " 33%|███▎      | 2/6 [00:11<00:23,  5.84s/it]\u001b[A"
     ]
    },
    {
     "name": "stdout",
     "output_type": "stream",
     "text": [
      "silhouette_score: -0.0032999999821186066\n",
      "adjusted_rand_score: 0.216\n",
      "adjusted_mutual_info_score: 0.4331\n",
      "average_topic_coherence: 0.8559\n",
      "min_samples: 5, min_cluster_size: 60\n"
     ]
    },
    {
     "name": "stderr",
     "output_type": "stream",
     "text": [
      "\n",
      " 50%|█████     | 3/6 [00:16<00:16,  5.42s/it]\u001b[A"
     ]
    },
    {
     "name": "stdout",
     "output_type": "stream",
     "text": [
      "silhouette_score: -0.0032999999821186066\n",
      "adjusted_rand_score: 0.216\n",
      "adjusted_mutual_info_score: 0.4331\n",
      "average_topic_coherence: 0.8559\n",
      "min_samples: 10, min_cluster_size: 10\n"
     ]
    },
    {
     "name": "stderr",
     "output_type": "stream",
     "text": [
      "\n",
      " 67%|██████▋   | 4/6 [00:21<00:10,  5.20s/it]\u001b[A"
     ]
    },
    {
     "name": "stdout",
     "output_type": "stream",
     "text": [
      "silhouette_score: -0.04450000077486038\n",
      "adjusted_rand_score: 0.1166\n",
      "adjusted_mutual_info_score: 0.361\n",
      "average_topic_coherence: 0.8618\n",
      "min_samples: 10, min_cluster_size: 30\n"
     ]
    },
    {
     "name": "stderr",
     "output_type": "stream",
     "text": [
      "\n",
      " 83%|████████▎ | 5/6 [00:26<00:05,  5.14s/it]\u001b[A"
     ]
    },
    {
     "name": "stdout",
     "output_type": "stream",
     "text": [
      "silhouette_score: 0.012400000356137753\n",
      "adjusted_rand_score: 0.1302\n",
      "adjusted_mutual_info_score: 0.2781\n",
      "average_topic_coherence: 0.8088\n",
      "min_samples: 10, min_cluster_size: 60\n"
     ]
    },
    {
     "name": "stderr",
     "output_type": "stream",
     "text": [
      "\n",
      "100%|██████████| 6/6 [00:31<00:00,  5.32s/it]\u001b[A\n",
      "  8%|▊         | 3/36 [00:41<09:32, 17.36s/it]"
     ]
    },
    {
     "name": "stdout",
     "output_type": "stream",
     "text": [
      "silhouette_score: 0.012400000356137753\n",
      "adjusted_rand_score: 0.1302\n",
      "adjusted_mutual_info_score: 0.2781\n",
      "average_topic_coherence: 0.8088\n",
      "silhouette_score: 0.012400000356137753\n",
      "adjusted_rand_score: 0.1302\n",
      "adjusted_mutual_info_score: 0.2781\n",
      "average_topic_coherence: 0.8088\n",
      "--------------------------------------------------------------------------------\n",
      "  Dim reduction Clustering              Best params  Adjusted Rand   \n",
      "0             -    hdbscan  min_s = 5 min_cl_s = 30       0.216036  \\\n",
      "\n",
      "   Adjusted Mutual Info  Silhouette Score  Avg topic coherence   \n",
      "0              0.433117         -0.003289             0.855862  \\\n",
      "\n",
      "   Dim red time, sec  Clustering time, sec  \n",
      "0                0.0              0.816192  \n",
      "dim_red: None, n_comp: None, clustering: spectral\n"
     ]
    },
    {
     "name": "stderr",
     "output_type": "stream",
     "text": [
      "\r",
      " 11%|█         | 4/36 [00:46<06:35, 12.35s/it]"
     ]
    },
    {
     "name": "stdout",
     "output_type": "stream",
     "text": [
      "silhouette_score: 0.13079999387264252\n",
      "adjusted_rand_score: 0.8111\n",
      "adjusted_mutual_info_score: 0.7803\n",
      "average_topic_coherence: 0.597\n",
      "--------------------------------------------------------------------------------\n",
      "  Dim reduction Clustering Best params  Adjusted Rand  Adjusted Mutual Info   \n",
      "0             -   spectral           -       0.811082              0.780286  \\\n",
      "\n",
      "   Silhouette Score  Avg topic coherence  Dim red time, sec   \n",
      "0          0.130804             0.596958                0.0  \\\n",
      "\n",
      "   Clustering time, sec  \n",
      "0              0.207996  \n",
      "dim_red: pca, n_comp: 10, clustering: kmeans\n"
     ]
    },
    {
     "name": "stderr",
     "output_type": "stream",
     "text": [
      "\r",
      " 47%|████▋     | 17/36 [00:51<00:34,  1.79s/it]"
     ]
    },
    {
     "name": "stdout",
     "output_type": "stream",
     "text": [
      "silhouette_score: 0.13819999992847443\n",
      "adjusted_rand_score: 0.9664\n",
      "adjusted_mutual_info_score: 0.9489\n",
      "average_topic_coherence: 0.7957\n",
      "--------------------------------------------------------------------------------\n",
      "        Dim reduction Clustering Best params  Adjusted Rand   \n",
      "0  pca, feat_dim = 10     kmeans           -       0.966351  \\\n",
      "\n",
      "   Adjusted Mutual Info  Silhouette Score  Avg topic coherence   \n",
      "0              0.948941          0.138232             0.795714  \\\n",
      "\n",
      "   Dim red time, sec  Clustering time, sec  \n",
      "0           0.308976              0.016956  \n",
      "dim_red: pca, n_comp: 10, clustering: gmm\n"
     ]
    },
    {
     "name": "stderr",
     "output_type": "stream",
     "text": [
      "\r",
      " 50%|█████     | 18/36 [00:54<00:35,  1.96s/it]"
     ]
    },
    {
     "name": "stdout",
     "output_type": "stream",
     "text": [
      "silhouette_score: 0.13840000331401825\n",
      "adjusted_rand_score: 1.0\n",
      "adjusted_mutual_info_score: 1.0\n",
      "average_topic_coherence: 0.8051\n",
      "--------------------------------------------------------------------------------\n",
      "        Dim reduction Clustering Best params  Adjusted Rand   \n",
      "0  pca, feat_dim = 10        gmm           -            1.0  \\\n",
      "\n",
      "   Adjusted Mutual Info  Silhouette Score  Avg topic coherence   \n",
      "0                   1.0          0.138433             0.805134  \\\n",
      "\n",
      "   Dim red time, sec  Clustering time, sec  \n",
      "0           0.040884               0.02851  \n",
      "dim_red: pca, n_comp: 10, clustering: hdbscan\n",
      "Grid search for HDBSCAN parameters\n"
     ]
    },
    {
     "name": "stderr",
     "output_type": "stream",
     "text": [
      "\n",
      "  0%|          | 0/6 [00:00<?, ?it/s]\u001b[A"
     ]
    },
    {
     "name": "stdout",
     "output_type": "stream",
     "text": [
      "min_samples: 5, min_cluster_size: 10\n"
     ]
    },
    {
     "name": "stderr",
     "output_type": "stream",
     "text": [
      "\n",
      " 17%|█▋        | 1/6 [00:03<00:19,  4.00s/it]\u001b[A"
     ]
    },
    {
     "name": "stdout",
     "output_type": "stream",
     "text": [
      "silhouette_score: 0.0917000025510788\n",
      "adjusted_rand_score: 0.6476\n",
      "adjusted_mutual_info_score: 0.7034\n",
      "average_topic_coherence: 0.7408\n",
      "min_samples: 5, min_cluster_size: 30\n"
     ]
    },
    {
     "name": "stderr",
     "output_type": "stream",
     "text": [
      "\n",
      " 33%|███▎      | 2/6 [00:07<00:14,  3.58s/it]\u001b[A"
     ]
    },
    {
     "name": "stdout",
     "output_type": "stream",
     "text": [
      "silhouette_score: 0.0917000025510788\n",
      "adjusted_rand_score: 0.6476\n",
      "adjusted_mutual_info_score: 0.7034\n",
      "average_topic_coherence: 0.7408\n",
      "min_samples: 5, min_cluster_size: 60\n"
     ]
    },
    {
     "name": "stderr",
     "output_type": "stream",
     "text": [
      "\n",
      " 50%|█████     | 3/6 [00:11<00:11,  3.77s/it]\u001b[A"
     ]
    },
    {
     "name": "stdout",
     "output_type": "stream",
     "text": [
      "silhouette_score: 0.0917000025510788\n",
      "adjusted_rand_score: 0.6476\n",
      "adjusted_mutual_info_score: 0.7034\n",
      "average_topic_coherence: 0.7408\n",
      "min_samples: 10, min_cluster_size: 10\n"
     ]
    },
    {
     "name": "stderr",
     "output_type": "stream",
     "text": [
      "\n",
      " 67%|██████▋   | 4/6 [00:15<00:07,  3.88s/it]\u001b[A"
     ]
    },
    {
     "name": "stdout",
     "output_type": "stream",
     "text": [
      "silhouette_score: 0.04149999842047691\n",
      "adjusted_rand_score: 0.407\n",
      "adjusted_mutual_info_score: 0.5557\n",
      "average_topic_coherence: 0.8815\n",
      "min_samples: 10, min_cluster_size: 30\n"
     ]
    },
    {
     "name": "stderr",
     "output_type": "stream",
     "text": [
      "\n",
      " 83%|████████▎ | 5/6 [00:19<00:04,  4.01s/it]\u001b[A"
     ]
    },
    {
     "name": "stdout",
     "output_type": "stream",
     "text": [
      "silhouette_score: 0.06759999692440033\n",
      "adjusted_rand_score: 0.5028\n",
      "adjusted_mutual_info_score: 0.6072\n",
      "average_topic_coherence: 0.8241\n",
      "min_samples: 10, min_cluster_size: 60\n"
     ]
    },
    {
     "name": "stderr",
     "output_type": "stream",
     "text": [
      "\n",
      "100%|██████████| 6/6 [00:23<00:00,  3.88s/it]\u001b[A\n",
      " 53%|█████▎    | 19/36 [01:18<01:13,  4.35s/it]"
     ]
    },
    {
     "name": "stdout",
     "output_type": "stream",
     "text": [
      "silhouette_score: 0.06710000336170197\n",
      "adjusted_rand_score: 0.4973\n",
      "adjusted_mutual_info_score: 0.604\n",
      "average_topic_coherence: 0.8305\n",
      "silhouette_score: 0.06710000336170197\n",
      "adjusted_rand_score: 0.4973\n",
      "adjusted_mutual_info_score: 0.604\n",
      "average_topic_coherence: 0.8305\n",
      "--------------------------------------------------------------------------------\n",
      "        Dim reduction Clustering              Best params  Adjusted Rand   \n",
      "0  pca, feat_dim = 10    hdbscan  min_s = 5 min_cl_s = 10         0.6476  \\\n",
      "\n",
      "   Adjusted Mutual Info  Silhouette Score  Avg topic coherence   \n",
      "0              0.703368          0.091715             0.740803  \\\n",
      "\n",
      "   Dim red time, sec  Clustering time, sec  \n",
      "0           0.036898              0.019948  \n",
      "dim_red: pca, n_comp: 10, clustering: spectral\n"
     ]
    },
    {
     "name": "stderr",
     "output_type": "stream",
     "text": [
      "\r",
      " 56%|█████▌    | 20/36 [01:22<01:09,  4.37s/it]"
     ]
    },
    {
     "name": "stdout",
     "output_type": "stream",
     "text": [
      "silhouette_score: 0.13510000705718994\n",
      "adjusted_rand_score: 0.8901\n",
      "adjusted_mutual_info_score: 0.847\n",
      "average_topic_coherence: 0.7365\n",
      "--------------------------------------------------------------------------------\n",
      "        Dim reduction Clustering Best params  Adjusted Rand   \n",
      "0  pca, feat_dim = 10   spectral           -       0.890103  \\\n",
      "\n",
      "   Adjusted Mutual Info  Silhouette Score  Avg topic coherence   \n",
      "0               0.84696          0.135088             0.736461  \\\n",
      "\n",
      "   Dim red time, sec  Clustering time, sec  \n",
      "0           0.042946              0.174533  \n",
      "dim_red: pca, n_comp: 50, clustering: kmeans\n"
     ]
    },
    {
     "name": "stderr",
     "output_type": "stream",
     "text": [
      "\r",
      " 58%|█████▊    | 21/36 [01:27<01:05,  4.39s/it]"
     ]
    },
    {
     "name": "stdout",
     "output_type": "stream",
     "text": [
      "silhouette_score: 0.10790000110864639\n",
      "adjusted_rand_score: 0.3818\n",
      "adjusted_mutual_info_score: 0.5173\n",
      "average_topic_coherence: 0.7913\n",
      "--------------------------------------------------------------------------------\n",
      "        Dim reduction Clustering Best params  Adjusted Rand   \n",
      "0  pca, feat_dim = 50     kmeans           -       0.381767  \\\n",
      "\n",
      "   Adjusted Mutual Info  Silhouette Score  Avg topic coherence   \n",
      "0              0.517257          0.107922              0.79134  \\\n",
      "\n",
      "   Dim red time, sec  Clustering time, sec  \n",
      "0            0.31178               0.01895  \n",
      "dim_red: pca, n_comp: 50, clustering: gmm\n"
     ]
    },
    {
     "name": "stderr",
     "output_type": "stream",
     "text": [
      "\r",
      " 61%|██████    | 22/36 [01:30<00:59,  4.24s/it]"
     ]
    },
    {
     "name": "stdout",
     "output_type": "stream",
     "text": [
      "silhouette_score: 0.10369999706745148\n",
      "adjusted_rand_score: 0.4\n",
      "adjusted_mutual_info_score: 0.5431\n",
      "average_topic_coherence: 0.8052\n",
      "--------------------------------------------------------------------------------\n",
      "        Dim reduction Clustering Best params  Adjusted Rand   \n",
      "0  pca, feat_dim = 50        gmm           -       0.400033  \\\n",
      "\n",
      "   Adjusted Mutual Info  Silhouette Score  Avg topic coherence   \n",
      "0              0.543098          0.103718             0.805242  \\\n",
      "\n",
      "   Dim red time, sec  Clustering time, sec  \n",
      "0           0.088748               0.04887  \n",
      "dim_red: pca, n_comp: 50, clustering: hdbscan\n",
      "Grid search for HDBSCAN parameters\n"
     ]
    },
    {
     "name": "stderr",
     "output_type": "stream",
     "text": [
      "\n",
      "  0%|          | 0/6 [00:00<?, ?it/s]\u001b[A"
     ]
    },
    {
     "name": "stdout",
     "output_type": "stream",
     "text": [
      "min_samples: 5, min_cluster_size: 10\n"
     ]
    },
    {
     "name": "stderr",
     "output_type": "stream",
     "text": [
      "\n",
      " 17%|█▋        | 1/6 [00:03<00:17,  3.50s/it]\u001b[A"
     ]
    },
    {
     "name": "stdout",
     "output_type": "stream",
     "text": [
      "silhouette_score: 0.053700000047683716\n",
      "adjusted_rand_score: 0.4434\n",
      "adjusted_mutual_info_score: 0.5781\n",
      "average_topic_coherence: 0.8264\n",
      "min_samples: 5, min_cluster_size: 30\n"
     ]
    },
    {
     "name": "stderr",
     "output_type": "stream",
     "text": [
      "\n",
      " 33%|███▎      | 2/6 [00:07<00:15,  3.80s/it]\u001b[A"
     ]
    },
    {
     "name": "stdout",
     "output_type": "stream",
     "text": [
      "silhouette_score: 0.047200001776218414\n",
      "adjusted_rand_score: 0.4125\n",
      "adjusted_mutual_info_score: 0.5616\n",
      "average_topic_coherence: 0.8332\n",
      "min_samples: 5, min_cluster_size: 60\n"
     ]
    },
    {
     "name": "stderr",
     "output_type": "stream",
     "text": [
      "\n",
      " 50%|█████     | 3/6 [00:10<00:10,  3.58s/it]\u001b[A"
     ]
    },
    {
     "name": "stdout",
     "output_type": "stream",
     "text": [
      "silhouette_score: 0.05169999971985817\n",
      "adjusted_rand_score: 0.4391\n",
      "adjusted_mutual_info_score: 0.5758\n",
      "average_topic_coherence: 0.8247\n",
      "min_samples: 10, min_cluster_size: 10\n"
     ]
    },
    {
     "name": "stderr",
     "output_type": "stream",
     "text": [
      "\n",
      " 67%|██████▋   | 4/6 [00:14<00:07,  3.60s/it]\u001b[A"
     ]
    },
    {
     "name": "stdout",
     "output_type": "stream",
     "text": [
      "silhouette_score: 0.01769999973475933\n",
      "adjusted_rand_score: 0.2801\n",
      "adjusted_mutual_info_score: 0.4858\n",
      "average_topic_coherence: 0.8035\n",
      "min_samples: 10, min_cluster_size: 30\n"
     ]
    },
    {
     "name": "stderr",
     "output_type": "stream",
     "text": [
      "\n",
      " 83%|████████▎ | 5/6 [00:17<00:03,  3.57s/it]\u001b[A"
     ]
    },
    {
     "name": "stdout",
     "output_type": "stream",
     "text": [
      "silhouette_score: 0.016699999570846558\n",
      "adjusted_rand_score: 0.2753\n",
      "adjusted_mutual_info_score: 0.4759\n",
      "average_topic_coherence: 0.8046\n",
      "min_samples: 10, min_cluster_size: 60\n"
     ]
    },
    {
     "name": "stderr",
     "output_type": "stream",
     "text": [
      "\n",
      "100%|██████████| 6/6 [00:23<00:00,  3.95s/it]\u001b[A\n",
      " 64%|██████▍   | 23/36 [01:54<01:49,  8.40s/it]"
     ]
    },
    {
     "name": "stdout",
     "output_type": "stream",
     "text": [
      "silhouette_score: 0.015799999237060547\n",
      "adjusted_rand_score: 0.2737\n",
      "adjusted_mutual_info_score: 0.4752\n",
      "average_topic_coherence: 0.8011\n",
      "silhouette_score: 0.015799999237060547\n",
      "adjusted_rand_score: 0.2737\n",
      "adjusted_mutual_info_score: 0.4752\n",
      "average_topic_coherence: 0.8011\n",
      "--------------------------------------------------------------------------------\n",
      "        Dim reduction Clustering              Best params  Adjusted Rand   \n",
      "0  pca, feat_dim = 50    hdbscan  min_s = 5 min_cl_s = 10        0.44345  \\\n",
      "\n",
      "   Adjusted Mutual Info  Silhouette Score  Avg topic coherence   \n",
      "0              0.578055          0.053659              0.82636  \\\n",
      "\n",
      "   Dim red time, sec  Clustering time, sec  \n",
      "0           0.128791              0.050826  \n",
      "dim_red: pca, n_comp: 50, clustering: spectral\n"
     ]
    },
    {
     "name": "stderr",
     "output_type": "stream",
     "text": [
      "\r",
      " 67%|██████▋   | 24/36 [01:58<01:28,  7.37s/it]"
     ]
    },
    {
     "name": "stdout",
     "output_type": "stream",
     "text": [
      "silhouette_score: 0.13040000200271606\n",
      "adjusted_rand_score: 0.8118\n",
      "adjusted_mutual_info_score: 0.7731\n",
      "average_topic_coherence: 0.5788\n",
      "--------------------------------------------------------------------------------\n",
      "        Dim reduction Clustering Best params  Adjusted Rand   \n",
      "0  pca, feat_dim = 50   spectral           -       0.811813  \\\n",
      "\n",
      "   Adjusted Mutual Info  Silhouette Score  Avg topic coherence   \n",
      "0              0.773068          0.130414             0.578772  \\\n",
      "\n",
      "   Dim red time, sec  Clustering time, sec  \n",
      "0           0.081023              0.118683  \n",
      "dim_red: pacmap, n_comp: 10, clustering: kmeans\n"
     ]
    },
    {
     "name": "stderr",
     "output_type": "stream",
     "text": [
      "\r",
      " 81%|████████  | 29/36 [02:05<00:25,  3.70s/it]"
     ]
    },
    {
     "name": "stdout",
     "output_type": "stream",
     "text": [
      "silhouette_score: 0.13819999992847443\n",
      "adjusted_rand_score: 0.9882\n",
      "adjusted_mutual_info_score: 0.979\n",
      "average_topic_coherence: 0.8057\n",
      "--------------------------------------------------------------------------------\n",
      "           Dim reduction Clustering Best params  Adjusted Rand   \n",
      "0  pacmap, feat_dim = 10     kmeans           -       0.988227  \\\n",
      "\n",
      "   Adjusted Mutual Info  Silhouette Score  Avg topic coherence   \n",
      "0              0.978954          0.138195             0.805719  \\\n",
      "\n",
      "   Dim red time, sec  Clustering time, sec  \n",
      "0           1.433463              1.011447  \n",
      "dim_red: pacmap, n_comp: 10, clustering: gmm\n"
     ]
    },
    {
     "name": "stderr",
     "output_type": "stream",
     "text": [
      "\r",
      " 83%|████████▎ | 30/36 [02:12<00:25,  4.21s/it]"
     ]
    },
    {
     "name": "stdout",
     "output_type": "stream",
     "text": [
      "silhouette_score: 0.13819999992847443\n",
      "adjusted_rand_score: 0.9882\n",
      "adjusted_mutual_info_score: 0.979\n",
      "average_topic_coherence: 0.8057\n",
      "--------------------------------------------------------------------------------\n",
      "           Dim reduction Clustering Best params  Adjusted Rand   \n",
      "0  pacmap, feat_dim = 10        gmm           -       0.988227  \\\n",
      "\n",
      "   Adjusted Mutual Info  Silhouette Score  Avg topic coherence   \n",
      "0              0.978954          0.138195             0.805719  \\\n",
      "\n",
      "   Dim red time, sec  Clustering time, sec  \n",
      "0            0.93431              1.032271  \n",
      "dim_red: pacmap, n_comp: 10, clustering: hdbscan\n",
      "Grid search for HDBSCAN parameters\n"
     ]
    },
    {
     "name": "stderr",
     "output_type": "stream",
     "text": [
      "\n",
      "  0%|          | 0/6 [00:00<?, ?it/s]\u001b[A"
     ]
    },
    {
     "name": "stdout",
     "output_type": "stream",
     "text": [
      "min_samples: 5, min_cluster_size: 10\n"
     ]
    },
    {
     "name": "stderr",
     "output_type": "stream",
     "text": [
      "\n",
      " 17%|█▋        | 1/6 [00:06<00:33,  6.80s/it]\u001b[A"
     ]
    },
    {
     "name": "stdout",
     "output_type": "stream",
     "text": [
      "silhouette_score: 0.0949999988079071\n",
      "adjusted_rand_score: 0.8536\n",
      "adjusted_mutual_info_score: 0.8108\n",
      "average_topic_coherence: 0.727\n",
      "min_samples: 5, min_cluster_size: 30\n"
     ]
    },
    {
     "name": "stderr",
     "output_type": "stream",
     "text": [
      "\n",
      " 33%|███▎      | 2/6 [00:13<00:26,  6.52s/it]\u001b[A"
     ]
    },
    {
     "name": "stdout",
     "output_type": "stream",
     "text": [
      "silhouette_score: 0.13819999992847443\n",
      "adjusted_rand_score: 0.9882\n",
      "adjusted_mutual_info_score: 0.979\n",
      "average_topic_coherence: 0.8057\n",
      "min_samples: 5, min_cluster_size: 60\n"
     ]
    },
    {
     "name": "stderr",
     "output_type": "stream",
     "text": [
      "\n",
      " 50%|█████     | 3/6 [00:19<00:19,  6.61s/it]\u001b[A"
     ]
    },
    {
     "name": "stdout",
     "output_type": "stream",
     "text": [
      "silhouette_score: 0.13819999992847443\n",
      "adjusted_rand_score: 0.9882\n",
      "adjusted_mutual_info_score: 0.979\n",
      "average_topic_coherence: 0.8057\n",
      "min_samples: 10, min_cluster_size: 10\n"
     ]
    },
    {
     "name": "stderr",
     "output_type": "stream",
     "text": [
      "\n",
      " 67%|██████▋   | 4/6 [00:26<00:13,  6.56s/it]\u001b[A"
     ]
    },
    {
     "name": "stdout",
     "output_type": "stream",
     "text": [
      "silhouette_score: 0.13819999992847443\n",
      "adjusted_rand_score: 0.9882\n",
      "adjusted_mutual_info_score: 0.979\n",
      "average_topic_coherence: 0.8057\n",
      "min_samples: 10, min_cluster_size: 30\n"
     ]
    },
    {
     "name": "stderr",
     "output_type": "stream",
     "text": [
      "\n",
      " 83%|████████▎ | 5/6 [00:32<00:06,  6.44s/it]\u001b[A"
     ]
    },
    {
     "name": "stdout",
     "output_type": "stream",
     "text": [
      "silhouette_score: 0.13819999992847443\n",
      "adjusted_rand_score: 0.9882\n",
      "adjusted_mutual_info_score: 0.979\n",
      "average_topic_coherence: 0.8057\n",
      "min_samples: 10, min_cluster_size: 60\n"
     ]
    },
    {
     "name": "stderr",
     "output_type": "stream",
     "text": [
      "\n",
      "100%|██████████| 6/6 [00:38<00:00,  6.48s/it]\u001b[A\n",
      " 86%|████████▌ | 31/36 [02:51<00:51, 10.38s/it]"
     ]
    },
    {
     "name": "stdout",
     "output_type": "stream",
     "text": [
      "silhouette_score: 0.13819999992847443\n",
      "adjusted_rand_score: 0.9882\n",
      "adjusted_mutual_info_score: 0.979\n",
      "average_topic_coherence: 0.8057\n",
      "silhouette_score: 0.13819999992847443\n",
      "adjusted_rand_score: 0.9882\n",
      "adjusted_mutual_info_score: 0.979\n",
      "average_topic_coherence: 0.8057\n",
      "--------------------------------------------------------------------------------\n",
      "           Dim reduction Clustering              Best params  Adjusted Rand   \n",
      "0  pacmap, feat_dim = 10    hdbscan  min_s = 5 min_cl_s = 30       0.988227  \\\n",
      "\n",
      "   Adjusted Mutual Info  Silhouette Score  Avg topic coherence   \n",
      "0              0.978954          0.138195             0.805719  \\\n",
      "\n",
      "   Dim red time, sec  Clustering time, sec  \n",
      "0           0.906801              1.024348  \n",
      "dim_red: pacmap, n_comp: 10, clustering: spectral\n"
     ]
    },
    {
     "name": "stderr",
     "output_type": "stream",
     "text": [
      "\r",
      " 89%|████████▉ | 32/36 [02:58<00:38,  9.69s/it]"
     ]
    },
    {
     "name": "stdout",
     "output_type": "stream",
     "text": [
      "silhouette_score: 0.13819999992847443\n",
      "adjusted_rand_score: 0.9882\n",
      "adjusted_mutual_info_score: 0.979\n",
      "average_topic_coherence: 0.8301\n",
      "--------------------------------------------------------------------------------\n",
      "           Dim reduction Clustering Best params  Adjusted Rand   \n",
      "0  pacmap, feat_dim = 10   spectral           -       0.988227  \\\n",
      "\n",
      "   Adjusted Mutual Info  Silhouette Score  Avg topic coherence   \n",
      "0              0.978954          0.138195              0.83006  \\\n",
      "\n",
      "   Dim red time, sec  Clustering time, sec  \n",
      "0           1.113462               1.03625  \n",
      "dim_red: pacmap, n_comp: 50, clustering: kmeans\n"
     ]
    },
    {
     "name": "stderr",
     "output_type": "stream",
     "text": [
      "\r",
      " 92%|█████████▏| 33/36 [03:09<00:29,  9.99s/it]"
     ]
    },
    {
     "name": "stdout",
     "output_type": "stream",
     "text": [
      "silhouette_score: 0.13819999992847443\n",
      "adjusted_rand_score: 0.9882\n",
      "adjusted_mutual_info_score: 0.979\n",
      "average_topic_coherence: 0.8057\n",
      "--------------------------------------------------------------------------------\n",
      "           Dim reduction Clustering Best params  Adjusted Rand   \n",
      "0  pacmap, feat_dim = 50     kmeans           -       0.988227  \\\n",
      "\n",
      "   Adjusted Mutual Info  Silhouette Score  Avg topic coherence   \n",
      "0              0.978954          0.138195             0.805719  \\\n",
      "\n",
      "   Dim red time, sec  Clustering time, sec  \n",
      "0           2.280591              2.282292  \n",
      "dim_red: pacmap, n_comp: 50, clustering: gmm\n"
     ]
    },
    {
     "name": "stderr",
     "output_type": "stream",
     "text": [
      "\r",
      " 94%|█████████▍| 34/36 [03:20<00:20, 10.16s/it]"
     ]
    },
    {
     "name": "stdout",
     "output_type": "stream",
     "text": [
      "silhouette_score: 0.13819999992847443\n",
      "adjusted_rand_score: 0.9882\n",
      "adjusted_mutual_info_score: 0.979\n",
      "average_topic_coherence: 0.8057\n",
      "--------------------------------------------------------------------------------\n",
      "           Dim reduction Clustering Best params  Adjusted Rand   \n",
      "0  pacmap, feat_dim = 50        gmm           -       0.988227  \\\n",
      "\n",
      "   Adjusted Mutual Info  Silhouette Score  Avg topic coherence   \n",
      "0              0.978954          0.138195             0.805719  \\\n",
      "\n",
      "   Dim red time, sec  Clustering time, sec  \n",
      "0           2.357454              2.444662  \n",
      "dim_red: pacmap, n_comp: 50, clustering: hdbscan\n",
      "Grid search for HDBSCAN parameters\n"
     ]
    },
    {
     "name": "stderr",
     "output_type": "stream",
     "text": [
      "\n",
      "  0%|          | 0/6 [00:00<?, ?it/s]\u001b[A"
     ]
    },
    {
     "name": "stdout",
     "output_type": "stream",
     "text": [
      "min_samples: 5, min_cluster_size: 10\n"
     ]
    },
    {
     "name": "stderr",
     "output_type": "stream",
     "text": [
      "\n",
      " 17%|█▋        | 1/6 [00:10<00:51, 10.25s/it]\u001b[A"
     ]
    },
    {
     "name": "stdout",
     "output_type": "stream",
     "text": [
      "silhouette_score: 0.13819999992847443\n",
      "adjusted_rand_score: 0.9882\n",
      "adjusted_mutual_info_score: 0.979\n",
      "average_topic_coherence: 0.8057\n",
      "min_samples: 5, min_cluster_size: 30\n"
     ]
    },
    {
     "name": "stderr",
     "output_type": "stream",
     "text": [
      "\n",
      " 33%|███▎      | 2/6 [00:20<00:41, 10.32s/it]\u001b[A"
     ]
    },
    {
     "name": "stdout",
     "output_type": "stream",
     "text": [
      "silhouette_score: 0.13819999992847443\n",
      "adjusted_rand_score: 0.9882\n",
      "adjusted_mutual_info_score: 0.979\n",
      "average_topic_coherence: 0.8057\n",
      "min_samples: 5, min_cluster_size: 60\n"
     ]
    },
    {
     "name": "stderr",
     "output_type": "stream",
     "text": [
      "\n",
      " 50%|█████     | 3/6 [00:31<00:31, 10.53s/it]\u001b[A"
     ]
    },
    {
     "name": "stdout",
     "output_type": "stream",
     "text": [
      "silhouette_score: 0.13819999992847443\n",
      "adjusted_rand_score: 0.9882\n",
      "adjusted_mutual_info_score: 0.979\n",
      "average_topic_coherence: 0.8057\n",
      "min_samples: 10, min_cluster_size: 10\n"
     ]
    },
    {
     "name": "stderr",
     "output_type": "stream",
     "text": [
      "\n",
      " 67%|██████▋   | 4/6 [00:41<00:20, 10.50s/it]\u001b[A"
     ]
    },
    {
     "name": "stdout",
     "output_type": "stream",
     "text": [
      "silhouette_score: 0.13819999992847443\n",
      "adjusted_rand_score: 0.9882\n",
      "adjusted_mutual_info_score: 0.979\n",
      "average_topic_coherence: 0.8057\n",
      "min_samples: 10, min_cluster_size: 30\n"
     ]
    },
    {
     "name": "stderr",
     "output_type": "stream",
     "text": [
      "\n",
      " 83%|████████▎ | 5/6 [00:52<00:10, 10.39s/it]\u001b[A"
     ]
    },
    {
     "name": "stdout",
     "output_type": "stream",
     "text": [
      "silhouette_score: 0.13819999992847443\n",
      "adjusted_rand_score: 0.9882\n",
      "adjusted_mutual_info_score: 0.979\n",
      "average_topic_coherence: 0.8057\n",
      "min_samples: 10, min_cluster_size: 60\n"
     ]
    },
    {
     "name": "stderr",
     "output_type": "stream",
     "text": [
      "\n",
      "100%|██████████| 6/6 [01:02<00:00, 10.39s/it]\u001b[A\n",
      " 97%|█████████▋| 35/36 [04:22<00:23, 23.61s/it]"
     ]
    },
    {
     "name": "stdout",
     "output_type": "stream",
     "text": [
      "silhouette_score: 0.13819999992847443\n",
      "adjusted_rand_score: 0.9882\n",
      "adjusted_mutual_info_score: 0.979\n",
      "average_topic_coherence: 0.8057\n",
      "silhouette_score: 0.13819999992847443\n",
      "adjusted_rand_score: 0.9882\n",
      "adjusted_mutual_info_score: 0.979\n",
      "average_topic_coherence: 0.8057\n",
      "--------------------------------------------------------------------------------\n",
      "           Dim reduction Clustering              Best params  Adjusted Rand   \n",
      "0  pacmap, feat_dim = 50    hdbscan  min_s = 5 min_cl_s = 10       0.988227  \\\n",
      "\n",
      "   Adjusted Mutual Info  Silhouette Score  Avg topic coherence   \n",
      "0              0.978954          0.138195             0.805719  \\\n",
      "\n",
      "   Dim red time, sec  Clustering time, sec  \n",
      "0            2.46875              2.124847  \n",
      "dim_red: pacmap, n_comp: 50, clustering: spectral\n"
     ]
    },
    {
     "name": "stderr",
     "output_type": "stream",
     "text": [
      "100%|██████████| 36/36 [04:34<00:00,  7.62s/it]"
     ]
    },
    {
     "name": "stdout",
     "output_type": "stream",
     "text": [
      "silhouette_score: 0.10890000313520432\n",
      "adjusted_rand_score: 0.7596\n",
      "adjusted_mutual_info_score: 0.787\n",
      "average_topic_coherence: 0.8057\n",
      "--------------------------------------------------------------------------------\n",
      "           Dim reduction Clustering Best params  Adjusted Rand   \n",
      "0  pacmap, feat_dim = 50   spectral           -        0.75962  \\\n",
      "\n",
      "   Adjusted Mutual Info  Silhouette Score  Avg topic coherence   \n",
      "0              0.786962          0.108898             0.805719  \\\n",
      "\n",
      "   Dim red time, sec  Clustering time, sec  \n",
      "0           2.296216              2.502897  \n"
     ]
    },
    {
     "name": "stderr",
     "output_type": "stream",
     "text": [
      "\n"
     ]
    }
   ],
   "source": [
    "results_banking = evaluate_classic_clustering(\n",
    "    dataset=\"banking\",\n",
    "    data_path=BANKING_PATH,\n",
    "    num_clasters=3,\n",
    "    dim_reduction_type_list=[None, \"pca\", \"pacmap\"],\n",
    "    n_components_list=[None, 10, 50],\n",
    "    clustering_type_list=[\"kmeans\", \"gmm\", \"hdbscan\", \"spectral\"], # \"mean_shift\"\n",
    "    random_state=42,\n",
    "    min_samples_list=[5, 10],\n",
    "    min_cluster_size_list=[10, 30, 60],\n",
    "    bandwidth_list=[1.00, 1.50, 2.00],\n",
    "    verbose=True,\n",
    "    save_df=False\n",
    ")"
   ]
  },
  {
   "cell_type": "code",
   "execution_count": 16,
   "id": "ae56d503",
   "metadata": {},
   "outputs": [
    {
     "data": {
      "text/html": [
       "<div>\n",
       "<style scoped>\n",
       "    .dataframe tbody tr th:only-of-type {\n",
       "        vertical-align: middle;\n",
       "    }\n",
       "\n",
       "    .dataframe tbody tr th {\n",
       "        vertical-align: top;\n",
       "    }\n",
       "\n",
       "    .dataframe thead th {\n",
       "        text-align: right;\n",
       "    }\n",
       "</style>\n",
       "<table border=\"1\" class=\"dataframe\">\n",
       "  <thead>\n",
       "    <tr style=\"text-align: right;\">\n",
       "      <th></th>\n",
       "      <th>Dim reduction</th>\n",
       "      <th>Clustering</th>\n",
       "      <th>Best params</th>\n",
       "      <th>Adjusted Rand</th>\n",
       "      <th>Adjusted Mutual Info</th>\n",
       "      <th>Silhouette Score</th>\n",
       "      <th>Avg topic coherence</th>\n",
       "      <th>Dim red time, sec</th>\n",
       "      <th>Clustering time, sec</th>\n",
       "    </tr>\n",
       "  </thead>\n",
       "  <tbody>\n",
       "    <tr>\n",
       "      <th>0</th>\n",
       "      <td>-</td>\n",
       "      <td>kmeans</td>\n",
       "      <td>-</td>\n",
       "      <td>0.9721</td>\n",
       "      <td>0.9557</td>\n",
       "      <td>0.1381</td>\n",
       "      <td>0.7618</td>\n",
       "      <td>0.0000</td>\n",
       "      <td>0.0489</td>\n",
       "    </tr>\n",
       "    <tr>\n",
       "      <th>1</th>\n",
       "      <td>-</td>\n",
       "      <td>gmm</td>\n",
       "      <td>-</td>\n",
       "      <td>0.9721</td>\n",
       "      <td>0.9557</td>\n",
       "      <td>0.1381</td>\n",
       "      <td>0.7914</td>\n",
       "      <td>0.0000</td>\n",
       "      <td>0.9706</td>\n",
       "    </tr>\n",
       "    <tr>\n",
       "      <th>2</th>\n",
       "      <td>-</td>\n",
       "      <td>hdbscan</td>\n",
       "      <td>min_s = 5 min_cl_s = 30</td>\n",
       "      <td>0.2160</td>\n",
       "      <td>0.4331</td>\n",
       "      <td>-0.0033</td>\n",
       "      <td>0.8559</td>\n",
       "      <td>0.0000</td>\n",
       "      <td>0.8162</td>\n",
       "    </tr>\n",
       "    <tr>\n",
       "      <th>3</th>\n",
       "      <td>-</td>\n",
       "      <td>spectral</td>\n",
       "      <td>-</td>\n",
       "      <td>0.8111</td>\n",
       "      <td>0.7803</td>\n",
       "      <td>0.1308</td>\n",
       "      <td>0.5970</td>\n",
       "      <td>0.0000</td>\n",
       "      <td>0.2080</td>\n",
       "    </tr>\n",
       "    <tr>\n",
       "      <th>4</th>\n",
       "      <td>pca, feat_dim = 10</td>\n",
       "      <td>kmeans</td>\n",
       "      <td>-</td>\n",
       "      <td>0.9664</td>\n",
       "      <td>0.9489</td>\n",
       "      <td>0.1382</td>\n",
       "      <td>0.7957</td>\n",
       "      <td>0.3090</td>\n",
       "      <td>0.0170</td>\n",
       "    </tr>\n",
       "    <tr>\n",
       "      <th>5</th>\n",
       "      <td>pca, feat_dim = 10</td>\n",
       "      <td>gmm</td>\n",
       "      <td>-</td>\n",
       "      <td>1.0000</td>\n",
       "      <td>1.0000</td>\n",
       "      <td>0.1384</td>\n",
       "      <td>0.8051</td>\n",
       "      <td>0.0409</td>\n",
       "      <td>0.0285</td>\n",
       "    </tr>\n",
       "    <tr>\n",
       "      <th>6</th>\n",
       "      <td>pca, feat_dim = 10</td>\n",
       "      <td>hdbscan</td>\n",
       "      <td>min_s = 5 min_cl_s = 10</td>\n",
       "      <td>0.6476</td>\n",
       "      <td>0.7034</td>\n",
       "      <td>0.0917</td>\n",
       "      <td>0.7408</td>\n",
       "      <td>0.0369</td>\n",
       "      <td>0.0199</td>\n",
       "    </tr>\n",
       "    <tr>\n",
       "      <th>7</th>\n",
       "      <td>pca, feat_dim = 10</td>\n",
       "      <td>spectral</td>\n",
       "      <td>-</td>\n",
       "      <td>0.8901</td>\n",
       "      <td>0.8470</td>\n",
       "      <td>0.1351</td>\n",
       "      <td>0.7365</td>\n",
       "      <td>0.0429</td>\n",
       "      <td>0.1745</td>\n",
       "    </tr>\n",
       "    <tr>\n",
       "      <th>8</th>\n",
       "      <td>pca, feat_dim = 50</td>\n",
       "      <td>kmeans</td>\n",
       "      <td>-</td>\n",
       "      <td>0.3818</td>\n",
       "      <td>0.5173</td>\n",
       "      <td>0.1079</td>\n",
       "      <td>0.7913</td>\n",
       "      <td>0.3118</td>\n",
       "      <td>0.0189</td>\n",
       "    </tr>\n",
       "    <tr>\n",
       "      <th>9</th>\n",
       "      <td>pca, feat_dim = 50</td>\n",
       "      <td>gmm</td>\n",
       "      <td>-</td>\n",
       "      <td>0.4000</td>\n",
       "      <td>0.5431</td>\n",
       "      <td>0.1037</td>\n",
       "      <td>0.8052</td>\n",
       "      <td>0.0887</td>\n",
       "      <td>0.0489</td>\n",
       "    </tr>\n",
       "    <tr>\n",
       "      <th>10</th>\n",
       "      <td>pca, feat_dim = 50</td>\n",
       "      <td>hdbscan</td>\n",
       "      <td>min_s = 5 min_cl_s = 10</td>\n",
       "      <td>0.4434</td>\n",
       "      <td>0.5781</td>\n",
       "      <td>0.0537</td>\n",
       "      <td>0.8264</td>\n",
       "      <td>0.1288</td>\n",
       "      <td>0.0508</td>\n",
       "    </tr>\n",
       "    <tr>\n",
       "      <th>11</th>\n",
       "      <td>pca, feat_dim = 50</td>\n",
       "      <td>spectral</td>\n",
       "      <td>-</td>\n",
       "      <td>0.8118</td>\n",
       "      <td>0.7731</td>\n",
       "      <td>0.1304</td>\n",
       "      <td>0.5788</td>\n",
       "      <td>0.0810</td>\n",
       "      <td>0.1187</td>\n",
       "    </tr>\n",
       "    <tr>\n",
       "      <th>12</th>\n",
       "      <td>pacmap, feat_dim = 10</td>\n",
       "      <td>kmeans</td>\n",
       "      <td>-</td>\n",
       "      <td>0.9882</td>\n",
       "      <td>0.9790</td>\n",
       "      <td>0.1382</td>\n",
       "      <td>0.8057</td>\n",
       "      <td>1.4335</td>\n",
       "      <td>1.0114</td>\n",
       "    </tr>\n",
       "    <tr>\n",
       "      <th>13</th>\n",
       "      <td>pacmap, feat_dim = 10</td>\n",
       "      <td>gmm</td>\n",
       "      <td>-</td>\n",
       "      <td>0.9882</td>\n",
       "      <td>0.9790</td>\n",
       "      <td>0.1382</td>\n",
       "      <td>0.8057</td>\n",
       "      <td>0.9343</td>\n",
       "      <td>1.0323</td>\n",
       "    </tr>\n",
       "    <tr>\n",
       "      <th>14</th>\n",
       "      <td>pacmap, feat_dim = 10</td>\n",
       "      <td>hdbscan</td>\n",
       "      <td>min_s = 5 min_cl_s = 30</td>\n",
       "      <td>0.9882</td>\n",
       "      <td>0.9790</td>\n",
       "      <td>0.1382</td>\n",
       "      <td>0.8057</td>\n",
       "      <td>0.9068</td>\n",
       "      <td>1.0243</td>\n",
       "    </tr>\n",
       "    <tr>\n",
       "      <th>15</th>\n",
       "      <td>pacmap, feat_dim = 10</td>\n",
       "      <td>spectral</td>\n",
       "      <td>-</td>\n",
       "      <td>0.9882</td>\n",
       "      <td>0.9790</td>\n",
       "      <td>0.1382</td>\n",
       "      <td>0.8301</td>\n",
       "      <td>1.1135</td>\n",
       "      <td>1.0362</td>\n",
       "    </tr>\n",
       "    <tr>\n",
       "      <th>16</th>\n",
       "      <td>pacmap, feat_dim = 50</td>\n",
       "      <td>kmeans</td>\n",
       "      <td>-</td>\n",
       "      <td>0.9882</td>\n",
       "      <td>0.9790</td>\n",
       "      <td>0.1382</td>\n",
       "      <td>0.8057</td>\n",
       "      <td>2.2806</td>\n",
       "      <td>2.2823</td>\n",
       "    </tr>\n",
       "    <tr>\n",
       "      <th>17</th>\n",
       "      <td>pacmap, feat_dim = 50</td>\n",
       "      <td>gmm</td>\n",
       "      <td>-</td>\n",
       "      <td>0.9882</td>\n",
       "      <td>0.9790</td>\n",
       "      <td>0.1382</td>\n",
       "      <td>0.8057</td>\n",
       "      <td>2.3575</td>\n",
       "      <td>2.4447</td>\n",
       "    </tr>\n",
       "    <tr>\n",
       "      <th>18</th>\n",
       "      <td>pacmap, feat_dim = 50</td>\n",
       "      <td>hdbscan</td>\n",
       "      <td>min_s = 5 min_cl_s = 10</td>\n",
       "      <td>0.9882</td>\n",
       "      <td>0.9790</td>\n",
       "      <td>0.1382</td>\n",
       "      <td>0.8057</td>\n",
       "      <td>2.4688</td>\n",
       "      <td>2.1248</td>\n",
       "    </tr>\n",
       "    <tr>\n",
       "      <th>19</th>\n",
       "      <td>pacmap, feat_dim = 50</td>\n",
       "      <td>spectral</td>\n",
       "      <td>-</td>\n",
       "      <td>0.7596</td>\n",
       "      <td>0.7870</td>\n",
       "      <td>0.1089</td>\n",
       "      <td>0.8057</td>\n",
       "      <td>2.2962</td>\n",
       "      <td>2.5029</td>\n",
       "    </tr>\n",
       "  </tbody>\n",
       "</table>\n",
       "</div>"
      ],
      "text/plain": [
       "            Dim reduction Clustering              Best params  Adjusted Rand   \n",
       "0                       -     kmeans                        -         0.9721  \\\n",
       "1                       -        gmm                        -         0.9721   \n",
       "2                       -    hdbscan  min_s = 5 min_cl_s = 30         0.2160   \n",
       "3                       -   spectral                        -         0.8111   \n",
       "4      pca, feat_dim = 10     kmeans                        -         0.9664   \n",
       "5      pca, feat_dim = 10        gmm                        -         1.0000   \n",
       "6      pca, feat_dim = 10    hdbscan  min_s = 5 min_cl_s = 10         0.6476   \n",
       "7      pca, feat_dim = 10   spectral                        -         0.8901   \n",
       "8      pca, feat_dim = 50     kmeans                        -         0.3818   \n",
       "9      pca, feat_dim = 50        gmm                        -         0.4000   \n",
       "10     pca, feat_dim = 50    hdbscan  min_s = 5 min_cl_s = 10         0.4434   \n",
       "11     pca, feat_dim = 50   spectral                        -         0.8118   \n",
       "12  pacmap, feat_dim = 10     kmeans                        -         0.9882   \n",
       "13  pacmap, feat_dim = 10        gmm                        -         0.9882   \n",
       "14  pacmap, feat_dim = 10    hdbscan  min_s = 5 min_cl_s = 30         0.9882   \n",
       "15  pacmap, feat_dim = 10   spectral                        -         0.9882   \n",
       "16  pacmap, feat_dim = 50     kmeans                        -         0.9882   \n",
       "17  pacmap, feat_dim = 50        gmm                        -         0.9882   \n",
       "18  pacmap, feat_dim = 50    hdbscan  min_s = 5 min_cl_s = 10         0.9882   \n",
       "19  pacmap, feat_dim = 50   spectral                        -         0.7596   \n",
       "\n",
       "    Adjusted Mutual Info  Silhouette Score  Avg topic coherence   \n",
       "0                 0.9557            0.1381               0.7618  \\\n",
       "1                 0.9557            0.1381               0.7914   \n",
       "2                 0.4331           -0.0033               0.8559   \n",
       "3                 0.7803            0.1308               0.5970   \n",
       "4                 0.9489            0.1382               0.7957   \n",
       "5                 1.0000            0.1384               0.8051   \n",
       "6                 0.7034            0.0917               0.7408   \n",
       "7                 0.8470            0.1351               0.7365   \n",
       "8                 0.5173            0.1079               0.7913   \n",
       "9                 0.5431            0.1037               0.8052   \n",
       "10                0.5781            0.0537               0.8264   \n",
       "11                0.7731            0.1304               0.5788   \n",
       "12                0.9790            0.1382               0.8057   \n",
       "13                0.9790            0.1382               0.8057   \n",
       "14                0.9790            0.1382               0.8057   \n",
       "15                0.9790            0.1382               0.8301   \n",
       "16                0.9790            0.1382               0.8057   \n",
       "17                0.9790            0.1382               0.8057   \n",
       "18                0.9790            0.1382               0.8057   \n",
       "19                0.7870            0.1089               0.8057   \n",
       "\n",
       "    Dim red time, sec  Clustering time, sec  \n",
       "0              0.0000                0.0489  \n",
       "1              0.0000                0.9706  \n",
       "2              0.0000                0.8162  \n",
       "3              0.0000                0.2080  \n",
       "4              0.3090                0.0170  \n",
       "5              0.0409                0.0285  \n",
       "6              0.0369                0.0199  \n",
       "7              0.0429                0.1745  \n",
       "8              0.3118                0.0189  \n",
       "9              0.0887                0.0489  \n",
       "10             0.1288                0.0508  \n",
       "11             0.0810                0.1187  \n",
       "12             1.4335                1.0114  \n",
       "13             0.9343                1.0323  \n",
       "14             0.9068                1.0243  \n",
       "15             1.1135                1.0362  \n",
       "16             2.2806                2.2823  \n",
       "17             2.3575                2.4447  \n",
       "18             2.4688                2.1248  \n",
       "19             2.2962                2.5029  "
      ]
     },
     "execution_count": 16,
     "metadata": {},
     "output_type": "execute_result"
    }
   ],
   "source": [
    "results_banking"
   ]
  },
  {
   "cell_type": "markdown",
   "id": "8cdbbf12",
   "metadata": {},
   "source": [
    "# Deep clustering\n",
    "\n",
    "To train a deep clustering models, the same interface can be used. "
   ]
  },
  {
   "cell_type": "code",
   "execution_count": 28,
   "id": "90076052",
   "metadata": {},
   "outputs": [
    {
     "name": "stdout",
     "output_type": "stream",
     "text": [
      "Phase 1: train embeddings\n"
     ]
    },
    {
     "data": {
      "application/vnd.jupyter.widget-view+json": {
       "model_id": "22d125272383415cbe5683ba32fe3c6c",
       "version_major": 2,
       "version_minor": 0
      },
      "text/plain": [
       "  0%|          | 0/20 [00:00<?, ?it/s]"
      ]
     },
     "metadata": {},
     "output_type": "display_data"
    },
    {
     "name": "stdout",
     "output_type": "stream",
     "text": [
      "Phase 2: train clusters\n"
     ]
    },
    {
     "data": {
      "application/vnd.jupyter.widget-view+json": {
       "model_id": "c76eb0b2a1c947e9875b871cfb1d6cc3",
       "version_major": 2,
       "version_minor": 0
      },
      "text/plain": [
       "  0%|          | 0/8 [00:00<?, ?it/s]"
      ]
     },
     "metadata": {},
     "output_type": "display_data"
    },
    {
     "name": "stdout",
     "output_type": "stream",
     "text": [
      "silhouette_score: 0.07209999859333038\n",
      "adjusted_rand_score: 0.5876\n",
      "adjusted_mutual_info_score: 0.7177\n",
      "average_topic_coherence: 0.7422\n",
      "Dim red time: 132.71807289123535\n",
      "Clust time: 510.8079090118408\n"
     ]
    }
   ],
   "source": [
    "model = TextClustering(\n",
    "    n_clusters=NUM_CLUSTERS,\n",
    "    inp_dim=INP_DIM,\n",
    "    feat_dim=10,\n",
    "    train_dataset=base_embeds,\n",
    "    data_frame=base_data,\n",
    "    kind=\"deep clustering\",\n",
    "    deep_model_type=\"DCN\",\n",
    "    random_state=42\n",
    ")\n",
    "\n",
    "losses1, losses2 = model.fit(base_embeds)\n",
    "_, clusters = model.transform_and_cluster(base_embeds)\n",
    "\n",
    "metrics = model.evaluate(use_true_clusters=True)\n",
    "\n",
    "print(f\"Dim red time: {model.times['dim_red']}\")\n",
    "print(f\"Clust time: {model.times['clust']}\")"
   ]
  },
  {
   "cell_type": "markdown",
   "id": "759d4315",
   "metadata": {},
   "source": [
    "You can also visualize the training process during both phases in one line:"
   ]
  },
  {
   "cell_type": "code",
   "execution_count": 45,
   "id": "2a5db10a",
   "metadata": {},
   "outputs": [
    {
     "data": {
      "image/png": "[encoded data removed]",
      "text/plain": [
       "<Figure size 1200x400 with 2 Axes>"
      ]
     },
     "metadata": {},
     "output_type": "display_data"
    }
   ],
   "source": [
    "plot_losses([losses1, losses2], [\"Feature extractor training  (1st phase)\", \"Clustering  (2st phase)\"])"
   ]
  },
  {
   "cell_type": "markdown",
   "id": "b8fb3aaa",
   "metadata": {},
   "source": [
    "Or draw the graphs separately:"
   ]
  },
  {
   "cell_type": "code",
   "execution_count": 47,
   "id": "1920922b",
   "metadata": {},
   "outputs": [
    {
     "data": {
      "image/png": "[encoded data removed]",
      "text/plain": [
       "<Figure size 900x600 with 1 Axes>"
      ]
     },
     "metadata": {},
     "output_type": "display_data"
    }
   ],
   "source": [
    "plot_losses(losses2, \"Clustering  (2st phase)\")"
   ]
  },
  {
   "cell_type": "markdown",
   "id": "de16351e",
   "metadata": {},
   "source": [
    "For deep clustering models the visualisation of clusters is available:"
   ]
  },
  {
   "cell_type": "code",
   "execution_count": 31,
   "id": "a6efe871",
   "metadata": {},
   "outputs": [
    {
     "data": {
      "image/png": "[encoded data removed]",
      "text/plain": [
       "<Figure size 900x900 with 1 Axes>"
      ]
     },
     "metadata": {},
     "output_type": "display_data"
    }
   ],
   "source": [
    "model.visualize_2d(base_embeds, base_clusters)"
   ]
  },
  {
   "cell_type": "markdown",
   "id": "2ebe52ed",
   "metadata": {},
   "source": [
    "# Contrastive Hierarchical Clustering\n",
    "\n",
    "CoHiClust model can be trained using the same TextClustering wrapper. For this model, you should use OmegaConf configuration file (they are available for Banking and Demo datasets or you can create your own). "
   ]
  },
  {
   "cell_type": "code",
   "execution_count": 17,
   "id": "a5c275be",
   "metadata": {},
   "outputs": [
    {
     "data": {
      "text/plain": [
       "{'model': {'name': 'custom', 'inp_dim': 1024, 'out_dim': 128, 'drop_prob': 0.25, 'linear_dims_list': [2048, 2048, 1024]}, 'dataset': {'dataset_name': 'banking10', 'number_classes': 5, 'n_neighb': 5}, 'tree': {'tree_level': 4}, 'simclr': {'temperature': 0.5, 'k': 10, 'feature_dim_projection_head': 128}, 'training': {'epochs': 50, 'batch_size': 64, 'pretraining_epochs': 20, 'start_pruning_epochs': 30, 'leaves_to_prune': 6}}"
      ]
     },
     "execution_count": 17,
     "metadata": {},
     "output_type": "execute_result"
    }
   ],
   "source": [
    "dataset_name = \"banking\" + str(NUM_CLUSTERS)\n",
    "cohiclust_cfg = OmegaConf.load(f'cfg/{dataset_name}.yaml')\n",
    "cohiclust_cfg"
   ]
  },
  {
   "cell_type": "code",
   "execution_count": 18,
   "id": "8560fc01",
   "metadata": {},
   "outputs": [
    {
     "name": "stdout",
     "output_type": "stream",
     "text": [
      "Computing approximate KNN matrix\n",
      "Computing approximate KNN matrix\n",
      "Computing approximate KNN matrix\n"
     ]
    },
    {
     "data": {
      "application/vnd.jupyter.widget-view+json": {
       "model_id": "cf86390a73254cfcb586fbc986e68009",
       "version_major": 2,
       "version_minor": 0
      },
      "text/plain": [
       "  0%|          | 0/20 [00:00<?, ?it/s]"
      ]
     },
     "metadata": {},
     "output_type": "display_data"
    },
    {
     "data": {
      "application/vnd.jupyter.widget-view+json": {
       "model_id": "00158683cf474da7bf1e065622e9fbce",
       "version_major": 2,
       "version_minor": 0
      },
      "text/plain": [
       "  0%|          | 0/20 [00:00<?, ?it/s]"
      ]
     },
     "metadata": {},
     "output_type": "display_data"
    },
    {
     "data": {
      "application/vnd.jupyter.widget-view+json": {
       "model_id": "db702a59994c4cfe90cc051703f5e5a2",
       "version_major": 2,
       "version_minor": 0
      },
      "text/plain": [
       "  0%|          | 0/20 [00:00<?, ?it/s]"
      ]
     },
     "metadata": {},
     "output_type": "display_data"
    },
    {
     "data": {
      "application/vnd.jupyter.widget-view+json": {
       "model_id": "406d91fb1ede48b789d68b62d1b99b26",
       "version_major": 2,
       "version_minor": 0
      },
      "text/plain": [
       "  0%|          | 0/20 [00:00<?, ?it/s]"
      ]
     },
     "metadata": {},
     "output_type": "display_data"
    },
    {
     "data": {
      "application/vnd.jupyter.widget-view+json": {
       "model_id": "fcd93c060c4e4affb0dda56ddc3cf6fb",
       "version_major": 2,
       "version_minor": 0
      },
      "text/plain": [
       "  0%|          | 0/20 [00:00<?, ?it/s]"
      ]
     },
     "metadata": {},
     "output_type": "display_data"
    },
    {
     "data": {
      "application/vnd.jupyter.widget-view+json": {
       "model_id": "bc1b7ba4981e4120bed0c7e1bfeea41a",
       "version_major": 2,
       "version_minor": 0
      },
      "text/plain": [
       "  0%|          | 0/20 [00:00<?, ?it/s]"
      ]
     },
     "metadata": {},
     "output_type": "display_data"
    },
    {
     "data": {
      "application/vnd.jupyter.widget-view+json": {
       "model_id": "2ae9d614b6f9485b836d4ffa064b2d19",
       "version_major": 2,
       "version_minor": 0
      },
      "text/plain": [
       "  0%|          | 0/20 [00:00<?, ?it/s]"
      ]
     },
     "metadata": {},
     "output_type": "display_data"
    },
    {
     "data": {
      "application/vnd.jupyter.widget-view+json": {
       "model_id": "63a0220e950647989cf60210bf9f79ad",
       "version_major": 2,
       "version_minor": 0
      },
      "text/plain": [
       "  0%|          | 0/20 [00:00<?, ?it/s]"
      ]
     },
     "metadata": {},
     "output_type": "display_data"
    },
    {
     "data": {
      "application/vnd.jupyter.widget-view+json": {
       "model_id": "3738c32a7c96454c81dabfb514a59b11",
       "version_major": 2,
       "version_minor": 0
      },
      "text/plain": [
       "  0%|          | 0/20 [00:00<?, ?it/s]"
      ]
     },
     "metadata": {},
     "output_type": "display_data"
    },
    {
     "data": {
      "application/vnd.jupyter.widget-view+json": {
       "model_id": "c155194d1d0440a18a716546e6030c99",
       "version_major": 2,
       "version_minor": 0
      },
      "text/plain": [
       "  0%|          | 0/20 [00:00<?, ?it/s]"
      ]
     },
     "metadata": {},
     "output_type": "display_data"
    },
    {
     "data": {
      "application/vnd.jupyter.widget-view+json": {
       "model_id": "dce7c052397d415e966fb66cb6a142d6",
       "version_major": 2,
       "version_minor": 0
      },
      "text/plain": [
       "  0%|          | 0/20 [00:00<?, ?it/s]"
      ]
     },
     "metadata": {},
     "output_type": "display_data"
    },
    {
     "data": {
      "application/vnd.jupyter.widget-view+json": {
       "model_id": "b594903c928c4185a1b6bd6dc573fc3c",
       "version_major": 2,
       "version_minor": 0
      },
      "text/plain": [
       "  0%|          | 0/20 [00:00<?, ?it/s]"
      ]
     },
     "metadata": {},
     "output_type": "display_data"
    },
    {
     "data": {
      "application/vnd.jupyter.widget-view+json": {
       "model_id": "3ff6c4e4c25d4681bbed53e2c2ee513c",
       "version_major": 2,
       "version_minor": 0
      },
      "text/plain": [
       "  0%|          | 0/20 [00:00<?, ?it/s]"
      ]
     },
     "metadata": {},
     "output_type": "display_data"
    },
    {
     "data": {
      "application/vnd.jupyter.widget-view+json": {
       "model_id": "c672da11bdb84892ab16e77ef6a5f9d7",
       "version_major": 2,
       "version_minor": 0
      },
      "text/plain": [
       "  0%|          | 0/20 [00:00<?, ?it/s]"
      ]
     },
     "metadata": {},
     "output_type": "display_data"
    },
    {
     "data": {
      "application/vnd.jupyter.widget-view+json": {
       "model_id": "8c866ba238724ff1bb666993464afa39",
       "version_major": 2,
       "version_minor": 0
      },
      "text/plain": [
       "  0%|          | 0/20 [00:00<?, ?it/s]"
      ]
     },
     "metadata": {},
     "output_type": "display_data"
    },
    {
     "data": {
      "application/vnd.jupyter.widget-view+json": {
       "model_id": "fb3a18ea6f4440d79c420f982872dabc",
       "version_major": 2,
       "version_minor": 0
      },
      "text/plain": [
       "  0%|          | 0/20 [00:00<?, ?it/s]"
      ]
     },
     "metadata": {},
     "output_type": "display_data"
    },
    {
     "data": {
      "application/vnd.jupyter.widget-view+json": {
       "model_id": "7d87bca619804d20b3cda3fb559b14f8",
       "version_major": 2,
       "version_minor": 0
      },
      "text/plain": [
       "  0%|          | 0/20 [00:00<?, ?it/s]"
      ]
     },
     "metadata": {},
     "output_type": "display_data"
    },
    {
     "data": {
      "application/vnd.jupyter.widget-view+json": {
       "model_id": "4679c354e2814757bb89ca0e31894e5f",
       "version_major": 2,
       "version_minor": 0
      },
      "text/plain": [
       "  0%|          | 0/20 [00:00<?, ?it/s]"
      ]
     },
     "metadata": {},
     "output_type": "display_data"
    },
    {
     "data": {
      "application/vnd.jupyter.widget-view+json": {
       "model_id": "f10bc512e57642a5af8384e7bff9548f",
       "version_major": 2,
       "version_minor": 0
      },
      "text/plain": [
       "  0%|          | 0/20 [00:00<?, ?it/s]"
      ]
     },
     "metadata": {},
     "output_type": "display_data"
    },
    {
     "data": {
      "application/vnd.jupyter.widget-view+json": {
       "model_id": "87f4e68ea26e4b2a82327994780b1896",
       "version_major": 2,
       "version_minor": 0
      },
      "text/plain": [
       "  0%|          | 0/20 [00:00<?, ?it/s]"
      ]
     },
     "metadata": {},
     "output_type": "display_data"
    },
    {
     "data": {
      "application/vnd.jupyter.widget-view+json": {
       "model_id": "79e5566c9eff48c0b204a8170473a661",
       "version_major": 2,
       "version_minor": 0
      },
      "text/plain": [
       "  0%|          | 0/20 [00:00<?, ?it/s]"
      ]
     },
     "metadata": {},
     "output_type": "display_data"
    },
    {
     "data": {
      "application/vnd.jupyter.widget-view+json": {
       "model_id": "71a9e7aa18944a5dbbd20d916f5bc3e9",
       "version_major": 2,
       "version_minor": 0
      },
      "text/plain": [
       "  0%|          | 0/9 [00:00<?, ?it/s]"
      ]
     },
     "metadata": {},
     "output_type": "display_data"
    },
    {
     "data": {
      "application/vnd.jupyter.widget-view+json": {
       "model_id": "2b5f88a6fb304d7490d488cdebcc2d4f",
       "version_major": 2,
       "version_minor": 0
      },
      "text/plain": [
       "  0%|          | 0/20 [00:00<?, ?it/s]"
      ]
     },
     "metadata": {},
     "output_type": "display_data"
    },
    {
     "data": {
      "application/vnd.jupyter.widget-view+json": {
       "model_id": "f283ca0d92c1438c95ce74170f33e36f",
       "version_major": 2,
       "version_minor": 0
      },
      "text/plain": [
       "  0%|          | 0/9 [00:00<?, ?it/s]"
      ]
     },
     "metadata": {},
     "output_type": "display_data"
    },
    {
     "data": {
      "application/vnd.jupyter.widget-view+json": {
       "model_id": "0b6c68853b7f485ab7e7ed7a194c9d32",
       "version_major": 2,
       "version_minor": 0
      },
      "text/plain": [
       "  0%|          | 0/20 [00:00<?, ?it/s]"
      ]
     },
     "metadata": {},
     "output_type": "display_data"
    },
    {
     "data": {
      "application/vnd.jupyter.widget-view+json": {
       "model_id": "56e396ba24b042d89f2f465bbaf81f83",
       "version_major": 2,
       "version_minor": 0
      },
      "text/plain": [
       "  0%|          | 0/9 [00:00<?, ?it/s]"
      ]
     },
     "metadata": {},
     "output_type": "display_data"
    },
    {
     "data": {
      "application/vnd.jupyter.widget-view+json": {
       "model_id": "cae5f17c8772460585cb9558bcdf9985",
       "version_major": 2,
       "version_minor": 0
      },
      "text/plain": [
       "  0%|          | 0/20 [00:00<?, ?it/s]"
      ]
     },
     "metadata": {},
     "output_type": "display_data"
    },
    {
     "data": {
      "application/vnd.jupyter.widget-view+json": {
       "model_id": "6f9ded09aaaa4100bae5247d433371b1",
       "version_major": 2,
       "version_minor": 0
      },
      "text/plain": [
       "  0%|          | 0/9 [00:00<?, ?it/s]"
      ]
     },
     "metadata": {},
     "output_type": "display_data"
    },
    {
     "data": {
      "application/vnd.jupyter.widget-view+json": {
       "model_id": "c77a5d35a05a442baf41b2db173821a1",
       "version_major": 2,
       "version_minor": 0
      },
      "text/plain": [
       "  0%|          | 0/20 [00:00<?, ?it/s]"
      ]
     },
     "metadata": {},
     "output_type": "display_data"
    },
    {
     "data": {
      "application/vnd.jupyter.widget-view+json": {
       "model_id": "b0b30f10e2b94cd5b861704d93fd2f4e",
       "version_major": 2,
       "version_minor": 0
      },
      "text/plain": [
       "  0%|          | 0/9 [00:00<?, ?it/s]"
      ]
     },
     "metadata": {},
     "output_type": "display_data"
    },
    {
     "data": {
      "application/vnd.jupyter.widget-view+json": {
       "model_id": "612b0887e41b4d1c8b780c0224cc6af4",
       "version_major": 2,
       "version_minor": 0
      },
      "text/plain": [
       "  0%|          | 0/20 [00:00<?, ?it/s]"
      ]
     },
     "metadata": {},
     "output_type": "display_data"
    },
    {
     "data": {
      "application/vnd.jupyter.widget-view+json": {
       "model_id": "644b73e2d7b044b29c4e56dde4ef3ac8",
       "version_major": 2,
       "version_minor": 0
      },
      "text/plain": [
       "  0%|          | 0/9 [00:00<?, ?it/s]"
      ]
     },
     "metadata": {},
     "output_type": "display_data"
    },
    {
     "data": {
      "application/vnd.jupyter.widget-view+json": {
       "model_id": "72106ea5a5124fa98e2662ce8465e0e6",
       "version_major": 2,
       "version_minor": 0
      },
      "text/plain": [
       "  0%|          | 0/20 [00:00<?, ?it/s]"
      ]
     },
     "metadata": {},
     "output_type": "display_data"
    },
    {
     "data": {
      "application/vnd.jupyter.widget-view+json": {
       "model_id": "f3b8870dabb141c9be31550dfd09e4e1",
       "version_major": 2,
       "version_minor": 0
      },
      "text/plain": [
       "  0%|          | 0/9 [00:00<?, ?it/s]"
      ]
     },
     "metadata": {},
     "output_type": "display_data"
    },
    {
     "data": {
      "application/vnd.jupyter.widget-view+json": {
       "model_id": "90d60d25bcc3469fbc8c82fded7b566e",
       "version_major": 2,
       "version_minor": 0
      },
      "text/plain": [
       "  0%|          | 0/20 [00:00<?, ?it/s]"
      ]
     },
     "metadata": {},
     "output_type": "display_data"
    },
    {
     "data": {
      "application/vnd.jupyter.widget-view+json": {
       "model_id": "8b8c2300c24f414cbf6bdcea1795d19e",
       "version_major": 2,
       "version_minor": 0
      },
      "text/plain": [
       "  0%|          | 0/9 [00:00<?, ?it/s]"
      ]
     },
     "metadata": {},
     "output_type": "display_data"
    },
    {
     "data": {
      "application/vnd.jupyter.widget-view+json": {
       "model_id": "396118ec0cc54f78b9cedade3f3479b0",
       "version_major": 2,
       "version_minor": 0
      },
      "text/plain": [
       "  0%|          | 0/20 [00:00<?, ?it/s]"
      ]
     },
     "metadata": {},
     "output_type": "display_data"
    },
    {
     "data": {
      "application/vnd.jupyter.widget-view+json": {
       "model_id": "082da68c33e54629bad2d27d64d36427",
       "version_major": 2,
       "version_minor": 0
      },
      "text/plain": [
       "  0%|          | 0/9 [00:00<?, ?it/s]"
      ]
     },
     "metadata": {},
     "output_type": "display_data"
    },
    {
     "data": {
      "application/vnd.jupyter.widget-view+json": {
       "model_id": "cf8764b89bd94980a22c8ccd1d2bf488",
       "version_major": 2,
       "version_minor": 0
      },
      "text/plain": [
       "  0%|          | 0/20 [00:00<?, ?it/s]"
      ]
     },
     "metadata": {},
     "output_type": "display_data"
    },
    {
     "data": {
      "application/vnd.jupyter.widget-view+json": {
       "model_id": "6b2d97e1746e4bfda143ff2ac647c2fb",
       "version_major": 2,
       "version_minor": 0
      },
      "text/plain": [
       "  0%|          | 0/9 [00:00<?, ?it/s]"
      ]
     },
     "metadata": {},
     "output_type": "display_data"
    },
    {
     "data": {
      "application/vnd.jupyter.widget-view+json": {
       "model_id": "50812bcfaed3463a9a68c67fbbd1b57c",
       "version_major": 2,
       "version_minor": 0
      },
      "text/plain": [
       "  0%|          | 0/20 [00:00<?, ?it/s]"
      ]
     },
     "metadata": {},
     "output_type": "display_data"
    },
    {
     "data": {
      "application/vnd.jupyter.widget-view+json": {
       "model_id": "9dcd469b925b4682be1a2bbad3a22ac8",
       "version_major": 2,
       "version_minor": 0
      },
      "text/plain": [
       "  0%|          | 0/9 [00:00<?, ?it/s]"
      ]
     },
     "metadata": {},
     "output_type": "display_data"
    },
    {
     "data": {
      "application/vnd.jupyter.widget-view+json": {
       "model_id": "c6c5ac8dca8a48e291ab7ebb1611edc7",
       "version_major": 2,
       "version_minor": 0
      },
      "text/plain": [
       "  0%|          | 0/20 [00:00<?, ?it/s]"
      ]
     },
     "metadata": {},
     "output_type": "display_data"
    },
    {
     "data": {
      "application/vnd.jupyter.widget-view+json": {
       "model_id": "8a2362cdb5004ce083075fa56d00ec7e",
       "version_major": 2,
       "version_minor": 0
      },
      "text/plain": [
       "  0%|          | 0/9 [00:00<?, ?it/s]"
      ]
     },
     "metadata": {},
     "output_type": "display_data"
    },
    {
     "data": {
      "application/vnd.jupyter.widget-view+json": {
       "model_id": "8a3c1f8c21684d1a899c53aa01b70ac4",
       "version_major": 2,
       "version_minor": 0
      },
      "text/plain": [
       "  0%|          | 0/20 [00:00<?, ?it/s]"
      ]
     },
     "metadata": {},
     "output_type": "display_data"
    },
    {
     "data": {
      "application/vnd.jupyter.widget-view+json": {
       "model_id": "13517147f1cd49828c4fb1d62503abb6",
       "version_major": 2,
       "version_minor": 0
      },
      "text/plain": [
       "  0%|          | 0/9 [00:00<?, ?it/s]"
      ]
     },
     "metadata": {},
     "output_type": "display_data"
    },
    {
     "data": {
      "application/vnd.jupyter.widget-view+json": {
       "model_id": "58a9b2ab36434964a7d214eb4c352514",
       "version_major": 2,
       "version_minor": 0
      },
      "text/plain": [
       "  0%|          | 0/20 [00:00<?, ?it/s]"
      ]
     },
     "metadata": {},
     "output_type": "display_data"
    },
    {
     "data": {
      "application/vnd.jupyter.widget-view+json": {
       "model_id": "901a57e782544ae4a448ff89097d8d3e",
       "version_major": 2,
       "version_minor": 0
      },
      "text/plain": [
       "  0%|          | 0/9 [00:00<?, ?it/s]"
      ]
     },
     "metadata": {},
     "output_type": "display_data"
    },
    {
     "data": {
      "application/vnd.jupyter.widget-view+json": {
       "model_id": "37fd6aa555604997a6bfdad139e531cb",
       "version_major": 2,
       "version_minor": 0
      },
      "text/plain": [
       "  0%|          | 0/20 [00:00<?, ?it/s]"
      ]
     },
     "metadata": {},
     "output_type": "display_data"
    },
    {
     "data": {
      "application/vnd.jupyter.widget-view+json": {
       "model_id": "618874fb734d4c20b7a22d3ee12f73b5",
       "version_major": 2,
       "version_minor": 0
      },
      "text/plain": [
       "  0%|          | 0/9 [00:00<?, ?it/s]"
      ]
     },
     "metadata": {},
     "output_type": "display_data"
    },
    {
     "data": {
      "application/vnd.jupyter.widget-view+json": {
       "model_id": "eefd693d62ad4e69adc187155d74d818",
       "version_major": 2,
       "version_minor": 0
      },
      "text/plain": [
       "  0%|          | 0/20 [00:00<?, ?it/s]"
      ]
     },
     "metadata": {},
     "output_type": "display_data"
    },
    {
     "data": {
      "application/vnd.jupyter.widget-view+json": {
       "model_id": "c353fcd188af4d4aadd4184d7158f615",
       "version_major": 2,
       "version_minor": 0
      },
      "text/plain": [
       "  0%|          | 0/9 [00:00<?, ?it/s]"
      ]
     },
     "metadata": {},
     "output_type": "display_data"
    },
    {
     "data": {
      "application/vnd.jupyter.widget-view+json": {
       "model_id": "f9a0f2a7ca2448aab341bb63402aacad",
       "version_major": 2,
       "version_minor": 0
      },
      "text/plain": [
       "  0%|          | 0/20 [00:00<?, ?it/s]"
      ]
     },
     "metadata": {},
     "output_type": "display_data"
    },
    {
     "data": {
      "application/vnd.jupyter.widget-view+json": {
       "model_id": "22757b5023ed494b954b3d8e958483cd",
       "version_major": 2,
       "version_minor": 0
      },
      "text/plain": [
       "  0%|          | 0/9 [00:00<?, ?it/s]"
      ]
     },
     "metadata": {},
     "output_type": "display_data"
    },
    {
     "data": {
      "application/vnd.jupyter.widget-view+json": {
       "model_id": "969f2ec8b8c449a0b74d81021e8dc896",
       "version_major": 2,
       "version_minor": 0
      },
      "text/plain": [
       "  0%|          | 0/20 [00:00<?, ?it/s]"
      ]
     },
     "metadata": {},
     "output_type": "display_data"
    },
    {
     "data": {
      "application/vnd.jupyter.widget-view+json": {
       "model_id": "9f74670de3044a658a03b652947b3696",
       "version_major": 2,
       "version_minor": 0
      },
      "text/plain": [
       "  0%|          | 0/9 [00:00<?, ?it/s]"
      ]
     },
     "metadata": {},
     "output_type": "display_data"
    },
    {
     "data": {
      "application/vnd.jupyter.widget-view+json": {
       "model_id": "d19f1beb16b3425db6a053d4c0a60cbb",
       "version_major": 2,
       "version_minor": 0
      },
      "text/plain": [
       "  0%|          | 0/20 [00:00<?, ?it/s]"
      ]
     },
     "metadata": {},
     "output_type": "display_data"
    },
    {
     "data": {
      "application/vnd.jupyter.widget-view+json": {
       "model_id": "9bce566570484fecb41ecf7f1cd2d6e4",
       "version_major": 2,
       "version_minor": 0
      },
      "text/plain": [
       "  0%|          | 0/9 [00:00<?, ?it/s]"
      ]
     },
     "metadata": {},
     "output_type": "display_data"
    },
    {
     "data": {
      "application/vnd.jupyter.widget-view+json": {
       "model_id": "72600911bf244483873591b3212ee8f3",
       "version_major": 2,
       "version_minor": 0
      },
      "text/plain": [
       "  0%|          | 0/20 [00:00<?, ?it/s]"
      ]
     },
     "metadata": {},
     "output_type": "display_data"
    },
    {
     "data": {
      "application/vnd.jupyter.widget-view+json": {
       "model_id": "2befbadc46c14031b8241ece8fb8adfc",
       "version_major": 2,
       "version_minor": 0
      },
      "text/plain": [
       "  0%|          | 0/9 [00:00<?, ?it/s]"
      ]
     },
     "metadata": {},
     "output_type": "display_data"
    },
    {
     "data": {
      "application/vnd.jupyter.widget-view+json": {
       "model_id": "270cf1b8790241c68b362c6d17ed5ffb",
       "version_major": 2,
       "version_minor": 0
      },
      "text/plain": [
       "  0%|          | 0/20 [00:00<?, ?it/s]"
      ]
     },
     "metadata": {},
     "output_type": "display_data"
    },
    {
     "data": {
      "application/vnd.jupyter.widget-view+json": {
       "model_id": "86395db684774640aee3c2b730f4892d",
       "version_major": 2,
       "version_minor": 0
      },
      "text/plain": [
       "  0%|          | 0/9 [00:00<?, ?it/s]"
      ]
     },
     "metadata": {},
     "output_type": "display_data"
    },
    {
     "data": {
      "application/vnd.jupyter.widget-view+json": {
       "model_id": "9217e74190664ca5bf34d9078241d314",
       "version_major": 2,
       "version_minor": 0
      },
      "text/plain": [
       "  0%|          | 0/20 [00:00<?, ?it/s]"
      ]
     },
     "metadata": {},
     "output_type": "display_data"
    },
    {
     "data": {
      "application/vnd.jupyter.widget-view+json": {
       "model_id": "717eeacc27284ebfad0803c74db97719",
       "version_major": 2,
       "version_minor": 0
      },
      "text/plain": [
       "  0%|          | 0/9 [00:00<?, ?it/s]"
      ]
     },
     "metadata": {},
     "output_type": "display_data"
    },
    {
     "data": {
      "application/vnd.jupyter.widget-view+json": {
       "model_id": "ab4953bc05704a93be4e0464923ecb11",
       "version_major": 2,
       "version_minor": 0
      },
      "text/plain": [
       "  0%|          | 0/20 [00:00<?, ?it/s]"
      ]
     },
     "metadata": {},
     "output_type": "display_data"
    },
    {
     "data": {
      "application/vnd.jupyter.widget-view+json": {
       "model_id": "f2baf938820c4ed39a1748c849370409",
       "version_major": 2,
       "version_minor": 0
      },
      "text/plain": [
       "  0%|          | 0/9 [00:00<?, ?it/s]"
      ]
     },
     "metadata": {},
     "output_type": "display_data"
    },
    {
     "data": {
      "application/vnd.jupyter.widget-view+json": {
       "model_id": "c9a432516e294a51ba67dcdd9dae6283",
       "version_major": 2,
       "version_minor": 0
      },
      "text/plain": [
       "  0%|          | 0/20 [00:00<?, ?it/s]"
      ]
     },
     "metadata": {},
     "output_type": "display_data"
    },
    {
     "data": {
      "application/vnd.jupyter.widget-view+json": {
       "model_id": "f7274789c1c942a18150926c6c9ea6b5",
       "version_major": 2,
       "version_minor": 0
      },
      "text/plain": [
       "  0%|          | 0/9 [00:00<?, ?it/s]"
      ]
     },
     "metadata": {},
     "output_type": "display_data"
    },
    {
     "data": {
      "application/vnd.jupyter.widget-view+json": {
       "model_id": "0912afca0144415580a1d70e2a9d1fe2",
       "version_major": 2,
       "version_minor": 0
      },
      "text/plain": [
       "  0%|          | 0/20 [00:00<?, ?it/s]"
      ]
     },
     "metadata": {},
     "output_type": "display_data"
    },
    {
     "data": {
      "application/vnd.jupyter.widget-view+json": {
       "model_id": "ec5bbf7830af44bd8963be26328c0aae",
       "version_major": 2,
       "version_minor": 0
      },
      "text/plain": [
       "  0%|          | 0/9 [00:00<?, ?it/s]"
      ]
     },
     "metadata": {},
     "output_type": "display_data"
    },
    {
     "data": {
      "application/vnd.jupyter.widget-view+json": {
       "model_id": "a2d57007d38b4c4a933501fce4b26990",
       "version_major": 2,
       "version_minor": 0
      },
      "text/plain": [
       "  0%|          | 0/20 [00:00<?, ?it/s]"
      ]
     },
     "metadata": {},
     "output_type": "display_data"
    },
    {
     "data": {
      "application/vnd.jupyter.widget-view+json": {
       "model_id": "ba34e5963734400bb2bd049938276f79",
       "version_major": 2,
       "version_minor": 0
      },
      "text/plain": [
       "  0%|          | 0/9 [00:00<?, ?it/s]"
      ]
     },
     "metadata": {},
     "output_type": "display_data"
    },
    {
     "data": {
      "application/vnd.jupyter.widget-view+json": {
       "model_id": "4271d9abd78945e090799357f6d3499d",
       "version_major": 2,
       "version_minor": 0
      },
      "text/plain": [
       "  0%|          | 0/20 [00:00<?, ?it/s]"
      ]
     },
     "metadata": {},
     "output_type": "display_data"
    },
    {
     "data": {
      "application/vnd.jupyter.widget-view+json": {
       "model_id": "03b0b3cf87034d689d9dabdfcc543171",
       "version_major": 2,
       "version_minor": 0
      },
      "text/plain": [
       "  0%|          | 0/9 [00:00<?, ?it/s]"
      ]
     },
     "metadata": {},
     "output_type": "display_data"
    },
    {
     "data": {
      "application/vnd.jupyter.widget-view+json": {
       "model_id": "1d564462f0a94a99a14d64912b030312",
       "version_major": 2,
       "version_minor": 0
      },
      "text/plain": [
       "  0%|          | 0/20 [00:00<?, ?it/s]"
      ]
     },
     "metadata": {},
     "output_type": "display_data"
    },
    {
     "data": {
      "application/vnd.jupyter.widget-view+json": {
       "model_id": "818e315dfffe42edb6716abf04416f62",
       "version_major": 2,
       "version_minor": 0
      },
      "text/plain": [
       "  0%|          | 0/9 [00:00<?, ?it/s]"
      ]
     },
     "metadata": {},
     "output_type": "display_data"
    },
    {
     "data": {
      "application/vnd.jupyter.widget-view+json": {
       "model_id": "6842313a8243421ebceb6a6bc580cc25",
       "version_major": 2,
       "version_minor": 0
      },
      "text/plain": [
       "  0%|          | 0/20 [00:00<?, ?it/s]"
      ]
     },
     "metadata": {},
     "output_type": "display_data"
    },
    {
     "data": {
      "application/vnd.jupyter.widget-view+json": {
       "model_id": "272f1303bf6e4b7ebf0a09dfc97f1d89",
       "version_major": 2,
       "version_minor": 0
      },
      "text/plain": [
       "  0%|          | 0/9 [00:00<?, ?it/s]"
      ]
     },
     "metadata": {},
     "output_type": "display_data"
    },
    {
     "data": {
      "application/vnd.jupyter.widget-view+json": {
       "model_id": "22e1cd38f988403c93b263a073c52f9e",
       "version_major": 2,
       "version_minor": 0
      },
      "text/plain": [
       "  0%|          | 0/20 [00:00<?, ?it/s]"
      ]
     },
     "metadata": {},
     "output_type": "display_data"
    },
    {
     "data": {
      "application/vnd.jupyter.widget-view+json": {
       "model_id": "6296f861642949c6b46f96f08685e751",
       "version_major": 2,
       "version_minor": 0
      },
      "text/plain": [
       "  0%|          | 0/9 [00:00<?, ?it/s]"
      ]
     },
     "metadata": {},
     "output_type": "display_data"
    },
    {
     "data": {
      "application/vnd.jupyter.widget-view+json": {
       "model_id": "7e5d27261aec4d53b1da6a36d9541de2",
       "version_major": 2,
       "version_minor": 0
      },
      "text/plain": [
       "  0%|          | 0/29 [00:00<?, ?it/s]"
      ]
     },
     "metadata": {},
     "output_type": "display_data"
    },
    {
     "data": {
      "application/vnd.jupyter.widget-view+json": {
       "model_id": "a7e087e12921463eaac32548c91d4ffe",
       "version_major": 2,
       "version_minor": 0
      },
      "text/plain": [
       "  0%|          | 0/29 [00:00<?, ?it/s]"
      ]
     },
     "metadata": {},
     "output_type": "display_data"
    },
    {
     "name": "stdout",
     "output_type": "stream",
     "text": [
      "silhouette_score: 0.03229999914765358\n",
      "adjusted_rand_score: 0.5134\n",
      "adjusted_mutual_info_score: 0.6694\n",
      "average_topic_coherence: 0.6941\n",
      "Dim red time: 0\n",
      "Clust time: 765.1120226383209\n"
     ]
    }
   ],
   "source": [
    "model = TextClustering(\n",
    "    n_clusters=NUM_CLUSTERS,\n",
    "    inp_dim=INP_DIM,\n",
    "    train_dataset=base_embeds,\n",
    "    data_frame=base_data,\n",
    "    cohiclust_cfg=cohiclust_cfg,\n",
    "    feat_dim=10,\n",
    "    kind=\"cohiclust\",\n",
    "    random_state=42\n",
    ")\n",
    "\n",
    "model.fit(base_embeds)\n",
    "_, clusters = model.transform_and_cluster(base_embeds)\n",
    "\n",
    "metrics = model.evaluate(use_true_clusters=True)\n",
    "\n",
    "print(f\"Dim red time: {model.times['dim_red']}\")\n",
    "print(f\"Clust time: {model.times['clust']}\")"
   ]
  },
  {
   "cell_type": "code",
   "execution_count": null,
   "id": "5e977bde",
   "metadata": {},
   "outputs": [],
   "source": []
  }
 ],
 "metadata": {
  "kernelspec": {
   "display_name": "Python 3 (ipykernel)",
   "language": "python",
   "name": "python3"
  },
  "language_info": {
   "codemirror_mode": {
    "name": "ipython",
    "version": 3
   },
   "file_extension": ".py",
   "mimetype": "text/x-python",
   "name": "python",
   "nbconvert_exporter": "python",
   "pygments_lexer": "ipython3",
   "version": "3.9.13"
  }
 },
 "nbformat": 4,
 "nbformat_minor": 5
}
